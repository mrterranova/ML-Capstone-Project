{
 "cells": [
  {
   "cell_type": "markdown",
   "id": "f522827c",
   "metadata": {},
   "source": []
  },
  {
   "cell_type": "code",
   "execution_count": 81,
   "id": "c99a9a00",
   "metadata": {},
   "outputs": [
    {
     "name": "stdout",
     "output_type": "stream",
     "text": [
      "Number of image files: 15015\n"
     ]
    }
   ],
   "source": [
    "import os\n",
    "\n",
    "# Set the path to your image folder\n",
    "diatom_images = 'Diatoms/images'\n",
    "annotations = 'Diatoms/annotations'\n",
    "web_images = 'diatoms.org'\n",
    "outlines_image = 'diatoms.org_bw_outlines'\n",
    "\n",
    "\n",
    "# Define common image extensions\n",
    "image_extensions = ('.jpg', '.jpeg', '.png', '.gif', '.bmp', '.tiff')\n",
    "\n",
    "\n",
    "# Count image files\n",
    "diatom_image_count = sum(\n",
    "    1 for file in os.listdir(diatom_images)\n",
    "    if file.lower().endswith(image_extensions)\n",
    ")\n",
    "annotations_image_count = sum(\n",
    "    1 for file in os.listdir(annotations)\n",
    "    if file.lower().endswith(image_extensions)\n",
    ")\n",
    "web_image_count = sum(\n",
    "    1 for file in os.listdir(web_images)\n",
    "\n",
    "    if file.lower().endswith(image_extensions)\n",
    ")\n",
    "webbw_image_count = sum(\n",
    "    1 for file in os.listdir(outlines_image)\n",
    "    \n",
    "    if file.lower().endswith(image_extensions)\n",
    ")\n",
    "\n",
    "print(f\"Number of image files: {diatom_image_count + annotations_image_count+ web_image_count + webbw_image_count}\")\n",
    "\n"
   ]
  },
  {
   "cell_type": "markdown",
   "id": "b5c5047e",
   "metadata": {},
   "source": []
  },
  {
   "cell_type": "code",
   "execution_count": null,
   "id": "676b5426",
   "metadata": {},
   "outputs": [],
   "source": []
  }
 ],
 "metadata": {
  "kernelspec": {
   "display_name": "Python 3",
   "language": "python",
   "name": "python3"
  },
  "language_info": {
   "codemirror_mode": {
    "name": "ipython",
    "version": 3
   },
   "file_extension": ".py",
   "mimetype": "text/x-python",
   "name": "python",
   "nbconvert_exporter": "python",
   "pygments_lexer": "ipython3",
   "version": "3.13.2"
  }
 },
 "nbformat": 4,
 "nbformat_minor": 5
}
