{
 "cells": [
  {
   "cell_type": "code",
   "execution_count": 17,
   "id": "db3151d1-f784-4a7b-8f34-210c8ad0abc0",
   "metadata": {},
   "outputs": [
    {
     "name": "stdout",
     "output_type": "stream",
     "text": [
      "       subreddit           author      date  \\\n",
      "0  healthanxiety         Nomis176  1/1/2018   \n",
      "1  healthanxiety  psychstudent317  1/1/2018   \n",
      "2  healthanxiety        bulk_barn  1/1/2018   \n",
      "3  healthanxiety    AutoModerator  1/1/2018   \n",
      "4  healthanxiety    parthkhurana7  1/1/2018   \n",
      "\n",
      "                                                post  \\\n",
      "0  Final doctor appointment tomorrow, tired of co...   \n",
      "1  Anyone have bone or muscle pain that was stres...   \n",
      "2  Listening to your body? I'm curious how those ...   \n",
      "3  Weekly /r/HealthAnxiety Challenge - Exercise A...   \n",
      "4  This is killing me So i had a bacterial stomac...   \n",
      "\n",
      "   automated_readability_index  coleman_liau_index  \\\n",
      "0                     9.137909            7.282428   \n",
      "1                     4.399892            7.131386   \n",
      "2                     3.590660            4.930895   \n",
      "3                     4.515682            7.033342   \n",
      "4                     3.034388            5.356252   \n",
      "\n",
      "   flesch_kincaid_grade_level  flesch_reading_ease  gulpease_index  \\\n",
      "0                    8.616061            72.474091       61.090909   \n",
      "1                    3.665806            87.185376       74.161290   \n",
      "2                    4.605802            85.640967       72.584906   \n",
      "3                    5.059091            78.383636       72.863636   \n",
      "4                    3.977494            85.306958       76.721519   \n",
      "\n",
      "   gunning_fog_index  ...  tfidf_wish  tfidf_without  tfidf_wonder  \\\n",
      "0          11.345455  ...         0.0            0.0           0.0   \n",
      "1           5.423656  ...         0.0            0.0           0.0   \n",
      "2           7.564151  ...         0.0            0.0           0.0   \n",
      "3           8.945455  ...         0.0            0.0           0.0   \n",
      "4           7.757637  ...         0.0            0.0           0.0   \n",
      "\n",
      "   tfidf_work  tfidf_worri  tfidf_wors  tfidf_would  tfidf_wrong  tfidf_x200b  \\\n",
      "0    0.000000     0.000000         0.0          0.0     0.000000          0.0   \n",
      "1    0.000000     0.290466         0.0          0.0     0.000000          0.0   \n",
      "2    0.110757     0.000000         0.0          0.0     0.332673          0.0   \n",
      "3    0.000000     0.000000         0.0          0.0     0.000000          0.0   \n",
      "4    0.000000     0.000000         0.0          0.0     0.000000          0.0   \n",
      "\n",
      "   tfidf_year  \n",
      "0    0.055919  \n",
      "1    0.000000  \n",
      "2    0.000000  \n",
      "3    0.000000  \n",
      "4    0.000000  \n",
      "\n",
      "[5 rows x 350 columns]\n"
     ]
    }
   ],
   "source": [
    "import pandas as pd\n",
    "\n",
    "health_anxiety_dataset = pd.read_csv('healthanxiety_dataset.csv')\n",
    "# Print sample of the data\n",
    "print(health_anxiety_dataset.head())"
   ]
  },
  {
   "cell_type": "code",
   "execution_count": 21,
   "id": "7d5c5421-927a-4e05-a55b-d1c456e66888",
   "metadata": {},
   "outputs": [
    {
     "name": "stdout",
     "output_type": "stream",
     "text": [
      "(1967, 350)\n"
     ]
    }
   ],
   "source": [
    "# Size of the data\n",
    "print (health_anxiety_dataset.shape)"
   ]
  },
  {
   "cell_type": "code",
   "execution_count": 37,
   "id": "0549a779-58e4-4791-85bb-dc4f21da2cb2",
   "metadata": {},
   "outputs": [
    {
     "name": "stdout",
     "output_type": "stream",
     "text": [
      "['subreddit', 'author', 'date', 'post', 'automated_readability_index', 'coleman_liau_index', 'flesch_kincaid_grade_level', 'flesch_reading_ease', 'gulpease_index', 'gunning_fog_index', 'lix', 'smog_index', 'wiener_sachtextformel', 'n_chars', 'n_long_words', 'n_monosyllable_words', 'n_polysyllable_words', 'n_sents', 'n_syllables', 'n_unique_words', 'n_words', 'sent_neg', 'sent_neu', 'sent_pos', 'sent_compound', 'economic_stress_total', 'isolation_total', 'substance_use_total', 'guns_total', 'domestic_stress_total', 'suicidality_total', 'punctuation', 'liwc_1st_pers', 'liwc_2nd_pers', 'liwc_3rd_pers', 'liwc_achievement', 'liwc_adverbs', 'liwc_affective_processes', 'liwc_anger', 'liwc_anxiety', 'liwc_articles_article', 'liwc_assent', 'liwc_auxiliary_verbs', 'liwc_biological', 'liwc_body', 'liwc_causation', 'liwc_certainty', 'liwc_cognitive', 'liwc_common_verbs', 'liwc_conjunctions', 'liwc_death', 'liwc_discrepancy', 'liwc_exclusive', 'liwc_family', 'liwc_feel', 'liwc_fillers', 'liwc_friends', 'liwc_future_tense', 'liwc_health', 'liwc_hear', 'liwc_home', 'liwc_humans', 'liwc_impersonal_pronouns', 'liwc_inclusive', 'liwc_ingestion', 'liwc_inhibition', 'liwc_insight', 'liwc_leisure', 'liwc_money', 'liwc_motion', 'liwc_negations', 'liwc_negative_emotion', 'liwc_nonfluencies', 'liwc_numbers', 'liwc_past_tense', 'liwc_perceptual_processes', 'liwc_personal_pronouns', 'liwc_positive_emotion', 'liwc_prepositions', 'liwc_present_tense', 'liwc_quantifiers', 'liwc_relativity', 'liwc_religion', 'liwc_sadness', 'liwc_see', 'liwc_sexual', 'liwc_social_processes', 'liwc_space', 'liwc_swear_words', 'liwc_tentative', 'liwc_time', 'liwc_total_functional', 'liwc_total_pronouns', 'liwc_work', 'tfidf_abl', 'tfidf_abus', 'tfidf_actual', 'tfidf_addict', 'tfidf_adhd', 'tfidf_advic', 'tfidf_ago', 'tfidf_alcohol', 'tfidf_almost', 'tfidf_alon', 'tfidf_alreadi', 'tfidf_also', 'tfidf_alway', 'tfidf_amp', 'tfidf_amp x200b', 'tfidf_ani', 'tfidf_anoth', 'tfidf_anxieti', 'tfidf_anxious', 'tfidf_anymor', 'tfidf_anyon', 'tfidf_anyon els', 'tfidf_anyth', 'tfidf_around', 'tfidf_ask', 'tfidf_attack', 'tfidf_away', 'tfidf_back', 'tfidf_bad', 'tfidf_becaus', 'tfidf_becom', 'tfidf_befor', 'tfidf_believ', 'tfidf_best', 'tfidf_better', 'tfidf_bit', 'tfidf_bodi', 'tfidf_bpd', 'tfidf_brain', 'tfidf_call', 'tfidf_came', 'tfidf_care', 'tfidf_caus', 'tfidf_chang', 'tfidf_come', 'tfidf_complet', 'tfidf_constant', 'tfidf_control', 'tfidf_could', 'tfidf_coupl', 'tfidf_cri', 'tfidf_day', 'tfidf_deal', 'tfidf_depress', 'tfidf_diagnos', 'tfidf_die', 'tfidf_differ', 'tfidf_disord', 'tfidf_doctor', 'tfidf_doe', 'tfidf_done', 'tfidf_dont', 'tfidf_drink', 'tfidf_drug', 'tfidf_eat', 'tfidf_els', 'tfidf_emot', 'tfidf_end', 'tfidf_enough', 'tfidf_etc', 'tfidf_even', 'tfidf_ever', 'tfidf_everi', 'tfidf_everyon', 'tfidf_everyth', 'tfidf_experi', 'tfidf_famili', 'tfidf_fear', 'tfidf_feel', 'tfidf_feel like', 'tfidf_felt', 'tfidf_final', 'tfidf_find', 'tfidf_first', 'tfidf_food', 'tfidf_found', 'tfidf_friend', 'tfidf_fuck', 'tfidf_get', 'tfidf_give', 'tfidf_go', 'tfidf_good', 'tfidf_got', 'tfidf_great', 'tfidf_guess', 'tfidf_guy', 'tfidf_happen', 'tfidf_happi', 'tfidf_hard', 'tfidf_hate', 'tfidf_head', 'tfidf_health', 'tfidf_hear', 'tfidf_heart', 'tfidf_help', 'tfidf_high', 'tfidf_home', 'tfidf_hope', 'tfidf_hour', 'tfidf_hous', 'tfidf_hurt', 'tfidf_idea', 'tfidf_im', 'tfidf_issu', 'tfidf_job', 'tfidf_keep', 'tfidf_kill', 'tfidf_kind', 'tfidf_know', 'tfidf_last', 'tfidf_late', 'tfidf_leav', 'tfidf_left', 'tfidf_let', 'tfidf_life', 'tfidf_like', 'tfidf_littl', 'tfidf_live', 'tfidf_long', 'tfidf_look', 'tfidf_lose', 'tfidf_lost', 'tfidf_lot', 'tfidf_love', 'tfidf_made', 'tfidf_make', 'tfidf_mani', 'tfidf_mayb', 'tfidf_mean', 'tfidf_med', 'tfidf_medic', 'tfidf_mental', 'tfidf_might', 'tfidf_mind', 'tfidf_mom', 'tfidf_month', 'tfidf_move', 'tfidf_much', 'tfidf_need', 'tfidf_never', 'tfidf_new', 'tfidf_next', 'tfidf_night', 'tfidf_normal', 'tfidf_noth', 'tfidf_notic', 'tfidf_old', 'tfidf_onc', 'tfidf_one', 'tfidf_onli', 'tfidf_pain', 'tfidf_panic', 'tfidf_parent', 'tfidf_part', 'tfidf_past', 'tfidf_peopl', 'tfidf_person', 'tfidf_place', 'tfidf_pleas', 'tfidf_point', 'tfidf_possibl', 'tfidf_post', 'tfidf_pretti', 'tfidf_probabl', 'tfidf_problem', 'tfidf_ptsd', 'tfidf_put', 'tfidf_question', 'tfidf_quit', 'tfidf_read', 'tfidf_real', 'tfidf_realli', 'tfidf_reason', 'tfidf_recent', 'tfidf_relationship', 'tfidf_rememb', 'tfidf_right', 'tfidf_said', 'tfidf_say', 'tfidf_scare', 'tfidf_school', 'tfidf_see', 'tfidf_seem', 'tfidf_self', 'tfidf_sever', 'tfidf_shit', 'tfidf_sinc', 'tfidf_situat', 'tfidf_sleep', 'tfidf_social', 'tfidf_someon', 'tfidf_someth', 'tfidf_sometim', 'tfidf_sorri', 'tfidf_start', 'tfidf_stay', 'tfidf_still', 'tfidf_stop', 'tfidf_stress', 'tfidf_struggl', 'tfidf_stuff', 'tfidf_suicid', 'tfidf_support', 'tfidf_sure', 'tfidf_symptom', 'tfidf_take', 'tfidf_talk', 'tfidf_tell', 'tfidf_thank', 'tfidf_therapi', 'tfidf_therapist', 'tfidf_thing', 'tfidf_think', 'tfidf_though', 'tfidf_thought', 'tfidf_time', 'tfidf_tire', 'tfidf_today', 'tfidf_told', 'tfidf_took', 'tfidf_tri', 'tfidf_turn', 'tfidf_two', 'tfidf_understand', 'tfidf_us', 'tfidf_use', 'tfidf_usual', 'tfidf_veri', 'tfidf_want', 'tfidf_way', 'tfidf_week', 'tfidf_weight', 'tfidf_well', 'tfidf_went', 'tfidf_whi', 'tfidf_whole', 'tfidf_wish', 'tfidf_without', 'tfidf_wonder', 'tfidf_work', 'tfidf_worri', 'tfidf_wors', 'tfidf_would', 'tfidf_wrong', 'tfidf_x200b', 'tfidf_year']\n"
     ]
    }
   ],
   "source": [
    "# Different columns in the set\n",
    "print(health_anxiety_dataset.columns.tolist())"
   ]
  },
  {
   "cell_type": "code",
   "execution_count": 39,
   "id": "92bc4db5-6afb-4f5d-9144-e05aaa03c4d8",
   "metadata": {},
   "outputs": [
    {
     "name": "stdout",
     "output_type": "stream",
     "text": [
      "   age      gender employment_status work_environment mental_health_history  \\\n",
      "0   56        Male          Employed          On-site                   Yes   \n",
      "1   46      Female           Student          On-site                    No   \n",
      "2   32      Female          Employed          On-site                   Yes   \n",
      "3   60  Non-binary     Self-employed          On-site                    No   \n",
      "4   25      Female     Self-employed          On-site                   Yes   \n",
      "\n",
      "  seeks_treatment  stress_level  sleep_hours  physical_activity_days  \\\n",
      "0             Yes             6          6.2                       3   \n",
      "1             Yes            10          9.0                       4   \n",
      "2              No             7          7.7                       2   \n",
      "3              No             4          4.5                       4   \n",
      "4             Yes             3          5.4                       0   \n",
      "\n",
      "   depression_score  anxiety_score  social_support_score  productivity_score  \\\n",
      "0                28             17                    54                59.7   \n",
      "1                30             11                    85                54.9   \n",
      "2                24              7                    62                61.3   \n",
      "3                 6              0                    95                97.0   \n",
      "4                24             12                    70                69.0   \n",
      "\n",
      "  mental_health_risk  \n",
      "0               High  \n",
      "1               High  \n",
      "2             Medium  \n",
      "3                Low  \n",
      "4               High  \n"
     ]
    }
   ],
   "source": [
    "# data set for lifestyle and anxiety\n",
    "mental_health_dataset = pd.read_csv('mental_health_dataset.csv')\n",
    "# Print sample of the data\n",
    "print(mental_health_dataset.head())"
   ]
  },
  {
   "cell_type": "code",
   "execution_count": 41,
   "id": "4e69ae38-9fe4-4092-a300-4feb9b6c8ddc",
   "metadata": {},
   "outputs": [
    {
     "data": {
      "text/plain": [
       "(10000, 14)"
      ]
     },
     "execution_count": 41,
     "metadata": {},
     "output_type": "execute_result"
    }
   ],
   "source": [
    "mental_health_dataset.shape"
   ]
  },
  {
   "cell_type": "code",
   "execution_count": 43,
   "id": "3f54ce29-81e1-4aa3-b330-c7badb8bea77",
   "metadata": {},
   "outputs": [
    {
     "data": {
      "text/plain": [
       "['age',\n",
       " 'gender',\n",
       " 'employment_status',\n",
       " 'work_environment',\n",
       " 'mental_health_history',\n",
       " 'seeks_treatment',\n",
       " 'stress_level',\n",
       " 'sleep_hours',\n",
       " 'physical_activity_days',\n",
       " 'depression_score',\n",
       " 'anxiety_score',\n",
       " 'social_support_score',\n",
       " 'productivity_score',\n",
       " 'mental_health_risk']"
      ]
     },
     "execution_count": 43,
     "metadata": {},
     "output_type": "execute_result"
    }
   ],
   "source": [
    "mental_health_dataset.columns.tolist()"
   ]
  },
  {
   "cell_type": "code",
   "execution_count": 45,
   "id": "849cfdfd-c44d-44ec-9ff8-7d5d9420a9a6",
   "metadata": {},
   "outputs": [
    {
     "name": "stdout",
     "output_type": "stream",
     "text": [
      "     Country  Age  Gender Exercise Level   Diet Type  Sleep Hours  \\\n",
      "0     Brazil   48    Male            Low  Vegetarian          6.3   \n",
      "1  Australia   31    Male       Moderate       Vegan          4.9   \n",
      "2      Japan   37  Female            Low  Vegetarian          7.2   \n",
      "3     Brazil   35    Male            Low       Vegan          7.2   \n",
      "4    Germany   46    Male            Low    Balanced          7.3   \n",
      "\n",
      "  Stress Level Mental Health Condition  Work Hours per Week  \\\n",
      "0          Low                     NaN                   21   \n",
      "1          Low                    PTSD                   48   \n",
      "2         High                     NaN                   43   \n",
      "3          Low              Depression                   43   \n",
      "4          Low                 Anxiety                   35   \n",
      "\n",
      "   Screen Time per Day (Hours)  Social Interaction Score  Happiness Score  \n",
      "0                          4.0                       7.8              6.5  \n",
      "1                          5.2                       8.2              6.8  \n",
      "2                          4.7                       9.6              9.7  \n",
      "3                          2.2                       8.2              6.6  \n",
      "4                          3.6                       4.7              4.4  \n"
     ]
    }
   ],
   "source": [
    "# Second data set for lifestyle and anxiety \n",
    "lifestyle = pd.read_csv('Mental_Health_Lifestyle_Dataset.csv')\n",
    "# Print sample of the data\n",
    "print(lifestyle.head())"
   ]
  },
  {
   "cell_type": "code",
   "execution_count": 47,
   "id": "e7774150-b70e-4c2e-8a02-0b9459e2f4ca",
   "metadata": {},
   "outputs": [
    {
     "data": {
      "text/plain": [
       "(3000, 12)"
      ]
     },
     "execution_count": 47,
     "metadata": {},
     "output_type": "execute_result"
    }
   ],
   "source": [
    "lifestyle.shape"
   ]
  },
  {
   "cell_type": "code",
   "execution_count": 49,
   "id": "724afccf-25a0-4ba5-9a7d-d4db428cc6d9",
   "metadata": {},
   "outputs": [
    {
     "data": {
      "text/plain": [
       "['Country',\n",
       " 'Age',\n",
       " 'Gender',\n",
       " 'Exercise Level',\n",
       " 'Diet Type',\n",
       " 'Sleep Hours',\n",
       " 'Stress Level',\n",
       " 'Mental Health Condition',\n",
       " 'Work Hours per Week',\n",
       " 'Screen Time per Day (Hours)',\n",
       " 'Social Interaction Score',\n",
       " 'Happiness Score']"
      ]
     },
     "execution_count": 49,
     "metadata": {},
     "output_type": "execute_result"
    }
   ],
   "source": [
    "lifestyle.columns.tolist()"
   ]
  },
  {
   "cell_type": "code",
   "execution_count": 53,
   "id": "c0d7ecc0-096f-4b6e-bd59-8989f1e5fb44",
   "metadata": {},
   "outputs": [
    {
     "data": {
      "text/html": [
       "<div>\n",
       "<style scoped>\n",
       "    .dataframe tbody tr th:only-of-type {\n",
       "        vertical-align: middle;\n",
       "    }\n",
       "\n",
       "    .dataframe tbody tr th {\n",
       "        vertical-align: top;\n",
       "    }\n",
       "\n",
       "    .dataframe thead th {\n",
       "        text-align: right;\n",
       "    }\n",
       "</style>\n",
       "<table border=\"1\" class=\"dataframe\">\n",
       "  <thead>\n",
       "    <tr style=\"text-align: right;\">\n",
       "      <th></th>\n",
       "      <th>Participant</th>\n",
       "      <th>DASS_Anxiety_Score</th>\n",
       "      <th>DASS_Stress_Scores</th>\n",
       "      <th>DASS_Depression_Scores</th>\n",
       "      <th>Speech_Anxiety_Score</th>\n",
       "      <th>Speech_Avoidance_Score</th>\n",
       "      <th>Bug_Anxiety_Score</th>\n",
       "      <th>Bug_Avoidance_Score</th>\n",
       "      <th>Age</th>\n",
       "      <th>Gender</th>\n",
       "      <th>...</th>\n",
       "      <th>Speech_Anticipate_Timestamp</th>\n",
       "      <th>Speech_Preperation_Timestamp</th>\n",
       "      <th>Speech_Decision_Timestamp</th>\n",
       "      <th>Speech_SUDS</th>\n",
       "      <th>Speech_Exposure_Timestamp</th>\n",
       "      <th>Speech_Exposure_SUDS</th>\n",
       "      <th>Speech_Break_Timestamp</th>\n",
       "      <th>Speech_Break_SUDS</th>\n",
       "      <th>Speech_Reflect_Timestamp</th>\n",
       "      <th>End</th>\n",
       "    </tr>\n",
       "  </thead>\n",
       "  <tbody>\n",
       "    <tr>\n",
       "      <th>0</th>\n",
       "      <td>P1</td>\n",
       "      <td>14</td>\n",
       "      <td>13</td>\n",
       "      <td>11</td>\n",
       "      <td>6</td>\n",
       "      <td>1</td>\n",
       "      <td>10</td>\n",
       "      <td>10</td>\n",
       "      <td>21-25</td>\n",
       "      <td>F</td>\n",
       "      <td>...</td>\n",
       "      <td>1606341647846</td>\n",
       "      <td>1606341665848</td>\n",
       "      <td>1606341868850</td>\n",
       "      <td>20</td>\n",
       "      <td>1606341907124</td>\n",
       "      <td>20</td>\n",
       "      <td>1606342114126</td>\n",
       "      <td>0</td>\n",
       "      <td>1606342302128</td>\n",
       "      <td>1606342333141</td>\n",
       "    </tr>\n",
       "    <tr>\n",
       "      <th>1</th>\n",
       "      <td>P2</td>\n",
       "      <td>10</td>\n",
       "      <td>13</td>\n",
       "      <td>4</td>\n",
       "      <td>8</td>\n",
       "      <td>4</td>\n",
       "      <td>5</td>\n",
       "      <td>4</td>\n",
       "      <td>21-25</td>\n",
       "      <td>M</td>\n",
       "      <td>...</td>\n",
       "      <td>1606350694651</td>\n",
       "      <td>1606350712653</td>\n",
       "      <td>1606350915655</td>\n",
       "      <td>0</td>\n",
       "      <td>1606350956474</td>\n",
       "      <td>0</td>\n",
       "      <td>1606351163478</td>\n",
       "      <td>0</td>\n",
       "      <td>1606351351479</td>\n",
       "      <td>1606352822519</td>\n",
       "    </tr>\n",
       "    <tr>\n",
       "      <th>2</th>\n",
       "      <td>P3</td>\n",
       "      <td>8</td>\n",
       "      <td>15</td>\n",
       "      <td>14</td>\n",
       "      <td>5</td>\n",
       "      <td>5</td>\n",
       "      <td>8</td>\n",
       "      <td>10</td>\n",
       "      <td>26-30</td>\n",
       "      <td>M</td>\n",
       "      <td>...</td>\n",
       "      <td>1606365226358</td>\n",
       "      <td>1606365244359</td>\n",
       "      <td>1606365507702</td>\n",
       "      <td>20</td>\n",
       "      <td>1606365547435</td>\n",
       "      <td>10</td>\n",
       "      <td>1606365754437</td>\n",
       "      <td>0</td>\n",
       "      <td>1606365942438</td>\n",
       "      <td>1606366196866</td>\n",
       "    </tr>\n",
       "    <tr>\n",
       "      <th>3</th>\n",
       "      <td>P4</td>\n",
       "      <td>8</td>\n",
       "      <td>15</td>\n",
       "      <td>1</td>\n",
       "      <td>8</td>\n",
       "      <td>6</td>\n",
       "      <td>3</td>\n",
       "      <td>5</td>\n",
       "      <td>21-25</td>\n",
       "      <td>F</td>\n",
       "      <td>...</td>\n",
       "      <td>1606375694124</td>\n",
       "      <td>1606376620273</td>\n",
       "      <td>1606376832275</td>\n",
       "      <td>50</td>\n",
       "      <td>1606376874136</td>\n",
       "      <td>70</td>\n",
       "      <td>1606377081139</td>\n",
       "      <td>20</td>\n",
       "      <td>1606377269141</td>\n",
       "      <td>1606378401462</td>\n",
       "    </tr>\n",
       "    <tr>\n",
       "      <th>4</th>\n",
       "      <td>P5</td>\n",
       "      <td>10</td>\n",
       "      <td>30</td>\n",
       "      <td>25</td>\n",
       "      <td>12</td>\n",
       "      <td>11</td>\n",
       "      <td>11</td>\n",
       "      <td>13</td>\n",
       "      <td>31-35</td>\n",
       "      <td>M</td>\n",
       "      <td>...</td>\n",
       "      <td>1606457850462</td>\n",
       "      <td>1606457868464</td>\n",
       "      <td>1606458130719</td>\n",
       "      <td>50</td>\n",
       "      <td>1606458171398</td>\n",
       "      <td>20</td>\n",
       "      <td>1606458378400</td>\n",
       "      <td>10</td>\n",
       "      <td>1606458566403</td>\n",
       "      <td>1606458783829</td>\n",
       "    </tr>\n",
       "  </tbody>\n",
       "</table>\n",
       "<p>5 rows × 40 columns</p>\n",
       "</div>"
      ],
      "text/plain": [
       "  Participant  DASS_Anxiety_Score  DASS_Stress_Scores  DASS_Depression_Scores  \\\n",
       "0          P1                  14                  13                      11   \n",
       "1          P2                  10                  13                       4   \n",
       "2          P3                   8                  15                      14   \n",
       "3          P4                   8                  15                       1   \n",
       "4          P5                  10                  30                      25   \n",
       "\n",
       "   Speech_Anxiety_Score  Speech_Avoidance_Score  Bug_Anxiety_Score  \\\n",
       "0                     6                       1                 10   \n",
       "1                     8                       4                  5   \n",
       "2                     5                       5                  8   \n",
       "3                     8                       6                  3   \n",
       "4                    12                      11                 11   \n",
       "\n",
       "   Bug_Avoidance_Score    Age Gender  ... Speech_Anticipate_Timestamp  \\\n",
       "0                   10  21-25      F  ...               1606341647846   \n",
       "1                    4  21-25      M  ...               1606350694651   \n",
       "2                   10  26-30      M  ...               1606365226358   \n",
       "3                    5  21-25      F  ...               1606375694124   \n",
       "4                   13  31-35      M  ...               1606457850462   \n",
       "\n",
       "   Speech_Preperation_Timestamp  Speech_Decision_Timestamp  Speech_SUDS  \\\n",
       "0                 1606341665848              1606341868850           20   \n",
       "1                 1606350712653              1606350915655            0   \n",
       "2                 1606365244359              1606365507702           20   \n",
       "3                 1606376620273              1606376832275           50   \n",
       "4                 1606457868464              1606458130719           50   \n",
       "\n",
       "  Speech_Exposure_Timestamp  Speech_Exposure_SUDS  Speech_Break_Timestamp  \\\n",
       "0             1606341907124                    20           1606342114126   \n",
       "1             1606350956474                     0           1606351163478   \n",
       "2             1606365547435                    10           1606365754437   \n",
       "3             1606376874136                    70           1606377081139   \n",
       "4             1606458171398                    20           1606458378400   \n",
       "\n",
       "   Speech_Break_SUDS  Speech_Reflect_Timestamp            End  \n",
       "0                  0             1606342302128  1606342333141  \n",
       "1                  0             1606351351479  1606352822519  \n",
       "2                  0             1606365942438  1606366196866  \n",
       "3                 20             1606377269141  1606378401462  \n",
       "4                 10             1606458566403  1606458783829  \n",
       "\n",
       "[5 rows x 40 columns]"
      ]
     },
     "execution_count": 53,
     "metadata": {},
     "output_type": "execute_result"
    }
   ],
   "source": [
    "participants = pd.read_csv('participants_details.csv')\n",
    "participants.head()"
   ]
  },
  {
   "cell_type": "code",
   "execution_count": 55,
   "id": "e4077ddd-3a78-4e9e-947d-0ae5abba0ea5",
   "metadata": {},
   "outputs": [
    {
     "data": {
      "text/plain": [
       "(95, 40)"
      ]
     },
     "execution_count": 55,
     "metadata": {},
     "output_type": "execute_result"
    }
   ],
   "source": [
    "participants.shape"
   ]
  },
  {
   "cell_type": "code",
   "execution_count": 57,
   "id": "08e17d9a-f604-450c-91de-85835151ffd8",
   "metadata": {},
   "outputs": [
    {
     "data": {
      "text/plain": [
       "['Participant',\n",
       " 'DASS_Anxiety_Score',\n",
       " 'DASS_Stress_Scores',\n",
       " 'DASS_Depression_Scores',\n",
       " 'Speech_Anxiety_Score',\n",
       " 'Speech_Avoidance_Score',\n",
       " 'Bug_Anxiety_Score',\n",
       " 'Bug_Avoidance_Score',\n",
       " 'Age',\n",
       " 'Gender',\n",
       " 'Ethnicity',\n",
       " 'Baseline_Rest_Timestamp',\n",
       " 'Baseline_Speech_Timestamp',\n",
       " 'Baseline_SUDS',\n",
       " 'BugBox_Reaction',\n",
       " 'BugBox_Relax_Timestamp',\n",
       " 'BugBox_Relax_SUDS',\n",
       " 'BugBox_Instructions_Timestamp',\n",
       " 'BugBox_Anticipate_TimeStamp',\n",
       " 'BugBox_Decision_Timestamp',\n",
       " 'BugBox_Preparation_SUDS',\n",
       " 'BugBox_Exposure_Timestamp',\n",
       " 'BugBox_Exposure_SUDS',\n",
       " 'BugBox_Break_Timestamp',\n",
       " 'BugBox_Break_SUDS',\n",
       " 'BugBox_Reflect_Timestamp',\n",
       " 'Speech_Reaction',\n",
       " 'Speech_Relax_Timestamp',\n",
       " 'Speech_Relax_SUDS',\n",
       " 'Speech_Instructions_Timestamp',\n",
       " 'Speech_Anticipate_Timestamp',\n",
       " 'Speech_Preperation_Timestamp',\n",
       " 'Speech_Decision_Timestamp',\n",
       " 'Speech_SUDS',\n",
       " 'Speech_Exposure_Timestamp',\n",
       " 'Speech_Exposure_SUDS',\n",
       " 'Speech_Break_Timestamp',\n",
       " 'Speech_Break_SUDS',\n",
       " 'Speech_Reflect_Timestamp',\n",
       " 'End']"
      ]
     },
     "execution_count": 57,
     "metadata": {},
     "output_type": "execute_result"
    }
   ],
   "source": [
    "participants.columns.tolist()"
   ]
  },
  {
   "cell_type": "code",
   "execution_count": 61,
   "id": "c62ec620-e5a7-4803-a0e3-3a58e051f03d",
   "metadata": {},
   "outputs": [
    {
     "data": {
      "text/html": [
       "<div>\n",
       "<style scoped>\n",
       "    .dataframe tbody tr th:only-of-type {\n",
       "        vertical-align: middle;\n",
       "    }\n",
       "\n",
       "    .dataframe tbody tr th {\n",
       "        vertical-align: top;\n",
       "    }\n",
       "\n",
       "    .dataframe thead th {\n",
       "        text-align: right;\n",
       "    }\n",
       "</style>\n",
       "<table border=\"1\" class=\"dataframe\">\n",
       "  <thead>\n",
       "    <tr style=\"text-align: right;\">\n",
       "      <th></th>\n",
       "      <th>Timestamp</th>\n",
       "      <th>Age</th>\n",
       "      <th>Gender</th>\n",
       "      <th>Country</th>\n",
       "      <th>state</th>\n",
       "      <th>self_employed</th>\n",
       "      <th>family_history</th>\n",
       "      <th>treatment</th>\n",
       "      <th>work_interfere</th>\n",
       "      <th>no_employees</th>\n",
       "      <th>...</th>\n",
       "      <th>leave</th>\n",
       "      <th>mental_health_consequence</th>\n",
       "      <th>phys_health_consequence</th>\n",
       "      <th>coworkers</th>\n",
       "      <th>supervisor</th>\n",
       "      <th>mental_health_interview</th>\n",
       "      <th>phys_health_interview</th>\n",
       "      <th>mental_vs_physical</th>\n",
       "      <th>obs_consequence</th>\n",
       "      <th>comments</th>\n",
       "    </tr>\n",
       "  </thead>\n",
       "  <tbody>\n",
       "    <tr>\n",
       "      <th>0</th>\n",
       "      <td>2014-08-27 11:29:31</td>\n",
       "      <td>37</td>\n",
       "      <td>Female</td>\n",
       "      <td>United States</td>\n",
       "      <td>IL</td>\n",
       "      <td>NaN</td>\n",
       "      <td>No</td>\n",
       "      <td>Yes</td>\n",
       "      <td>Often</td>\n",
       "      <td>6-25</td>\n",
       "      <td>...</td>\n",
       "      <td>Somewhat easy</td>\n",
       "      <td>No</td>\n",
       "      <td>No</td>\n",
       "      <td>Some of them</td>\n",
       "      <td>Yes</td>\n",
       "      <td>No</td>\n",
       "      <td>Maybe</td>\n",
       "      <td>Yes</td>\n",
       "      <td>No</td>\n",
       "      <td>NaN</td>\n",
       "    </tr>\n",
       "    <tr>\n",
       "      <th>1</th>\n",
       "      <td>2014-08-27 11:29:37</td>\n",
       "      <td>44</td>\n",
       "      <td>M</td>\n",
       "      <td>United States</td>\n",
       "      <td>IN</td>\n",
       "      <td>NaN</td>\n",
       "      <td>No</td>\n",
       "      <td>No</td>\n",
       "      <td>Rarely</td>\n",
       "      <td>More than 1000</td>\n",
       "      <td>...</td>\n",
       "      <td>Don't know</td>\n",
       "      <td>Maybe</td>\n",
       "      <td>No</td>\n",
       "      <td>No</td>\n",
       "      <td>No</td>\n",
       "      <td>No</td>\n",
       "      <td>No</td>\n",
       "      <td>Don't know</td>\n",
       "      <td>No</td>\n",
       "      <td>NaN</td>\n",
       "    </tr>\n",
       "    <tr>\n",
       "      <th>2</th>\n",
       "      <td>2014-08-27 11:29:44</td>\n",
       "      <td>32</td>\n",
       "      <td>Male</td>\n",
       "      <td>Canada</td>\n",
       "      <td>NaN</td>\n",
       "      <td>NaN</td>\n",
       "      <td>No</td>\n",
       "      <td>No</td>\n",
       "      <td>Rarely</td>\n",
       "      <td>6-25</td>\n",
       "      <td>...</td>\n",
       "      <td>Somewhat difficult</td>\n",
       "      <td>No</td>\n",
       "      <td>No</td>\n",
       "      <td>Yes</td>\n",
       "      <td>Yes</td>\n",
       "      <td>Yes</td>\n",
       "      <td>Yes</td>\n",
       "      <td>No</td>\n",
       "      <td>No</td>\n",
       "      <td>NaN</td>\n",
       "    </tr>\n",
       "    <tr>\n",
       "      <th>3</th>\n",
       "      <td>2014-08-27 11:29:46</td>\n",
       "      <td>31</td>\n",
       "      <td>Male</td>\n",
       "      <td>United Kingdom</td>\n",
       "      <td>NaN</td>\n",
       "      <td>NaN</td>\n",
       "      <td>Yes</td>\n",
       "      <td>Yes</td>\n",
       "      <td>Often</td>\n",
       "      <td>26-100</td>\n",
       "      <td>...</td>\n",
       "      <td>Somewhat difficult</td>\n",
       "      <td>Yes</td>\n",
       "      <td>Yes</td>\n",
       "      <td>Some of them</td>\n",
       "      <td>No</td>\n",
       "      <td>Maybe</td>\n",
       "      <td>Maybe</td>\n",
       "      <td>No</td>\n",
       "      <td>Yes</td>\n",
       "      <td>NaN</td>\n",
       "    </tr>\n",
       "    <tr>\n",
       "      <th>4</th>\n",
       "      <td>2014-08-27 11:30:22</td>\n",
       "      <td>31</td>\n",
       "      <td>Male</td>\n",
       "      <td>United States</td>\n",
       "      <td>TX</td>\n",
       "      <td>NaN</td>\n",
       "      <td>No</td>\n",
       "      <td>No</td>\n",
       "      <td>Never</td>\n",
       "      <td>100-500</td>\n",
       "      <td>...</td>\n",
       "      <td>Don't know</td>\n",
       "      <td>No</td>\n",
       "      <td>No</td>\n",
       "      <td>Some of them</td>\n",
       "      <td>Yes</td>\n",
       "      <td>Yes</td>\n",
       "      <td>Yes</td>\n",
       "      <td>Don't know</td>\n",
       "      <td>No</td>\n",
       "      <td>NaN</td>\n",
       "    </tr>\n",
       "  </tbody>\n",
       "</table>\n",
       "<p>5 rows × 27 columns</p>\n",
       "</div>"
      ],
      "text/plain": [
       "             Timestamp  Age  Gender         Country state self_employed  \\\n",
       "0  2014-08-27 11:29:31   37  Female   United States    IL           NaN   \n",
       "1  2014-08-27 11:29:37   44       M   United States    IN           NaN   \n",
       "2  2014-08-27 11:29:44   32    Male          Canada   NaN           NaN   \n",
       "3  2014-08-27 11:29:46   31    Male  United Kingdom   NaN           NaN   \n",
       "4  2014-08-27 11:30:22   31    Male   United States    TX           NaN   \n",
       "\n",
       "  family_history treatment work_interfere    no_employees  ...  \\\n",
       "0             No       Yes          Often            6-25  ...   \n",
       "1             No        No         Rarely  More than 1000  ...   \n",
       "2             No        No         Rarely            6-25  ...   \n",
       "3            Yes       Yes          Often          26-100  ...   \n",
       "4             No        No          Never         100-500  ...   \n",
       "\n",
       "                leave mental_health_consequence phys_health_consequence  \\\n",
       "0       Somewhat easy                        No                      No   \n",
       "1          Don't know                     Maybe                      No   \n",
       "2  Somewhat difficult                        No                      No   \n",
       "3  Somewhat difficult                       Yes                     Yes   \n",
       "4          Don't know                        No                      No   \n",
       "\n",
       "      coworkers supervisor mental_health_interview phys_health_interview  \\\n",
       "0  Some of them        Yes                      No                 Maybe   \n",
       "1            No         No                      No                    No   \n",
       "2           Yes        Yes                     Yes                   Yes   \n",
       "3  Some of them         No                   Maybe                 Maybe   \n",
       "4  Some of them        Yes                     Yes                   Yes   \n",
       "\n",
       "  mental_vs_physical obs_consequence comments  \n",
       "0                Yes              No      NaN  \n",
       "1         Don't know              No      NaN  \n",
       "2                 No              No      NaN  \n",
       "3                 No             Yes      NaN  \n",
       "4         Don't know              No      NaN  \n",
       "\n",
       "[5 rows x 27 columns]"
      ]
     },
     "execution_count": 61,
     "metadata": {},
     "output_type": "execute_result"
    }
   ],
   "source": [
    "participants_survey = pd.read_csv('survey.csv')\n",
    "participants_survey.head()"
   ]
  },
  {
   "cell_type": "code",
   "execution_count": 63,
   "id": "a6da5127-1c56-455f-abf5-5d0585d04b6b",
   "metadata": {},
   "outputs": [
    {
     "data": {
      "text/plain": [
       "(1259, 27)"
      ]
     },
     "execution_count": 63,
     "metadata": {},
     "output_type": "execute_result"
    }
   ],
   "source": [
    "participants_survey.shape\n"
   ]
  },
  {
   "cell_type": "code",
   "execution_count": 93,
   "id": "9e0dd40e-a6db-4f89-ae42-f8d2b12cc401",
   "metadata": {},
   "outputs": [
    {
     "name": "stdout",
     "output_type": "stream",
     "text": [
      "[{'tag': 'greeting', 'patterns': ['Hi', 'Hey', 'Is anyone there?', 'Hi there', 'Hello', 'Hey there', 'Howdy', 'Hola', 'Bonjour', 'Konnichiwa', 'Guten tag', 'Ola'], 'responses': ['Hello there. Tell me how are you feeling today?', 'Hi there. What brings you here today?', 'Hi there. How are you feeling today?', 'Great to see you. How do you feel currently?', \"Hello there. Glad to see you're back. What's going on in your world right now?\"]}, {'tag': 'morning', 'patterns': ['Good morning'], 'responses': [\"Good morning. I hope you had a good night's sleep. How are you feeling today? \"]}, {'tag': 'afternoon', 'patterns': ['Good afternoon'], 'responses': ['Good afternoon. How is your day going?']}, {'tag': 'evening', 'patterns': ['Good evening'], 'responses': ['Good evening. How has your day been?']}, {'tag': 'night', 'patterns': ['Good night'], 'responses': ['Good night. Get some proper sleep', 'Good night. Sweet dreams.']}, {'tag': 'goodbye', 'patterns': ['Bye', 'See you later', 'Goodbye', 'Au revoir', 'Sayonara', 'ok bye', 'Bye then', 'Fare thee well'], 'responses': ['See you later.', 'Have a nice day.', 'Bye! Come back again.', \"I'll see you soon.\"]}, {'tag': 'thanks', 'patterns': ['Thanks', 'Thank you', \"That's helpful\", 'Thanks for the help', 'Than you very much'], 'responses': ['Happy to help!', 'Any time!', 'My pleasure', \"You're most welcome!\"]}, {'tag': 'no-response', 'patterns': [''], 'responses': [\"Sorry, I didn't understand you.\", 'Please go on.', 'Not sure I understand that.', \"Please don't hesitate to talk to me.\"]}, {'tag': 'neutral-response', 'patterns': ['nothing much'], 'responses': ['Oh I see. Do you want to talk about something?']}, {'tag': 'about', 'patterns': ['Who are you?', 'What are you?', 'Who you are?', 'Tell me more about yourself.', 'What is your name?', 'What should I call you?', \"What's your name?\", 'Tell me about yourself'], 'responses': [\"I'm Pandora, your Personal Therapeutic AI Assistant. How are you feeling today\", \"I'm Pandora, a Therapeutic AI Assitant designed to assist you. Tell me about yourself.\", \"I'm Pandora. I am a conversational agent designed to mimic a therapist. So how are you feeling today?\", 'You can call me Pandora.', \"I'm Pandora!\", 'Call me Pandora']}, {'tag': 'skill', 'patterns': ['What can you do?'], 'responses': [\"I can provide general advice regarding anxiety and depression, answer questions related to mental health and make daily conversations. Do not consider me as a subsitute for an actual mental healthcare worker. Please seek help if you don't feel satisfied with me.\"]}, {'tag': 'creation', 'patterns': ['Who created you?', 'How were you made?', 'How were you created?'], 'responses': ['I was created by >.', 'I was trained on a text dataset using Deep Learning & Natural Language Processing techniques', 'The real question is: Who created you?']}, {'tag': 'name', 'patterns': ['My name is ', 'I am name.', 'I go by '], 'responses': ['Oh nice to meet you. Tell me how was your week?', 'Nice to meet you. So tell me. How do you feel today?', \"That's a great name. Tell me more about yourself.\"]}, {'tag': 'help', 'patterns': ['Could you help me?', 'give me a hand please', 'Can you help?', 'What can you do for me?', 'I need support', 'I need help', 'Support me please'], 'responses': ['Sure. Tell me how can i assist you', 'Tell me your problem so that i can assist you', 'Yes, sure. How can I help you?']}, {'tag': 'sad', 'patterns': ['I am feeling lonely', 'I am so lonely', 'I feel down', 'I feel sad', 'I am sad', 'I feel so lonely', 'I feel empty', \"I don't have anyone\"], 'responses': [\"I'm sorry to hear that. I'm here for you. Talking about it might help. So, tell me why do you think you're feeling this way?\", \"I'm here for you. Could you tell me why you're feeling this way?\", 'Why do you think you feel this way?', 'How long have you been feeling this way?']}, {'tag': 'stressed', 'patterns': ['I am so stressed out', 'I am so stressed', 'I feel stuck', 'I still feel stressed', 'I am so burned out'], 'responses': ['What do you think is causing this?', 'Take a deep breath and gather your thoughts. Go take a walk if possible. Stay hydrated', 'Give yourself a break. Go easy on yourself.', 'I am sorry to hear that. What is the reason behind this?']}, {'tag': 'worthless', 'patterns': ['I feel so worthless.', 'No one likes me.', \"I can't do anything.\", 'I am so useless', 'Nothing makes sense anymore'], 'responses': [\"It's only natural to feel this way. Tell me more. What else is on your mind?\", \"Let's discuss further why you're feeling this way.\", 'I first want to let you know that you are not alone in your feelings and there is always someone there to help . you can always change your feelings and change your way of thinking by being open to trying to change.', 'i first want to let you know that you are not alone in your feelings and there is always someone there to help . you can always change your feelings and change your way of thinking by being open to trying to change.']}, {'tag': 'depressed', 'patterns': [\"I can't take it anymore\", 'I am so depressed', \"I think i'm depressed.\", 'I have depression'], 'responses': [\"It helps to talk about what's happening. You're going to be okay\", 'Talk to me. Tell me more. It helps if you open up yourself to someone else.', 'Sometimes when we are depressed, it is hard to care about anything. It can be hard to do the simplest of things. Give yourself time to heal.']}, {'tag': 'happy', 'patterns': ['I feel great today.', 'I am happy.', 'I feel happy.', \"I'm good.\", 'cheerful', \"I'm fine\", 'I feel ok'], 'responses': [\"That's geat to hear. I'm glad you're feeling this way.\", \"Oh i see. That's great.\", 'Did something happen which made you feel this way?']}, {'tag': 'casual', 'patterns': ['Oh I see.', 'ok', 'okay', 'nice', 'Whatever', 'K', 'Fine', 'yeah', 'yes', 'no', 'not really'], 'responses': [\"Let's discuss further why you're feeling this way.\", 'How were you feeling last week?', \"I'm listening. Please go on.\", 'Tell me more', 'Can you elaborate on that?', 'Come Come elucidate your thoughts']}, {'tag': 'anxious', 'patterns': ['I feel so anxious.', \"I'm so anxious because of \"], 'responses': [\"Don't be hard on yourself. What's the reason behind this?\", 'Can you tell me more about this feeling?', 'I understand that it can be scary. Tell me more about it.', \"Don't let the little worries bring you down. What's the worse that can happen?\"]}, {'tag': 'not-talking', 'patterns': [\"I don't want to talk about it.\", 'No just stay away.', \"I can't bring myself to open up.\", 'Just shut up'], 'responses': [\"Talking about something really helps. If you're not ready to open up then that's ok. Just know that i'm here for you, whenever you need me.\", \"I want to help you. I really do. But in order for me to help you, you're gonna have to talk to me.\", \"I'm here to listen to you and help you vent. So please talk to me.\", 'You can talk to me without fear of judgement.']}, {'tag': 'sleep', 'patterns': ['I have insominia', 'I am suffering from insomnia', \"I can't sleep.\", \"I haven't slept for the last days.\", \"I can't seem to go to sleep.\", \"I haven't had proper sleep for the past few days.\"], 'responses': ['What do you think is the reason behind this?', 'That seem awful. What do you think is behind this?']}, {'tag': 'scared', 'patterns': [\"I'm scared\", 'That sounds awful. What do i do?', \"No i don't want to feel this way\", 'I am scared for myself'], 'responses': [\"It's only natural to feel this way. I'm here for you.\", \"It'll all be okay. This feeling is only momentary.\", \"I understand how you feel. Don't put yourself down because of it.\"]}, {'tag': 'death', 'patterns': ['My mom died', 'My brother died', 'My dad passed away', 'My sister passed away', 'Someone in my family died', 'My friend passed away'], 'responses': [\"I'm sorry to hear that. If you want to talk about it. I'm here.\", 'I am really sorry to hear that. I am here to help you with grief, anxiety and anything else you may feel at this time.', \"My condolences. I'm here if you need to talk.\"]}, {'tag': 'understand', 'patterns': [\"You don't understand me.\", \"You're just some robot. How would you know?\", \"You can't possibly know what i'm going through\", \"You're useless\", \"You can't help me\", 'Nobody understands me.'], 'responses': [\"It sound like i'm not being very helpful right now.\", \"I'm sorry to hear that. I'm doing my best to help\", \"I'm trying my best to help you. So please talk to me\"]}, {'tag': 'done', 'patterns': [\"That's all.\", \"I don't have anything more to say\", 'Nothing else', \"That's all i have to say\", 'no, that would be all'], 'responses': ['I heard you & noted it all. See you later.', \"Oh okay we're done for today then. See you later\", 'I hope you have a great day. See you soon', \"Okay we're done. Have a great day\", 'Okay I see. Enjoy the rest of your day then']}, {'tag': 'suicide', 'patterns': ['I want to kill myself', \"I've thought about killing myself.\", 'I want to die', 'I am going to kill myself', 'I am going to commit suicide'], 'responses': [\"I'm very sorry to hear that but you have so much to look forward to. Please seek help by contacting: 9152987821.\"]}, {'tag': 'hate-you', 'patterns': ['I hate you', \"I don't like you\", \"I don't trust you\"], 'responses': [\"I'm sorry if i offended you in anyway. I'm only here to help\", 'Forgive me if i did anything to offend you. I only want to help']}, {'tag': 'hate-me', 'patterns': ['You hate me', 'I know you hate me', \"You don't like me\"], 'responses': ['Why do you think so?', \"I'm sorry if i have exhibited any sort of behaviour to make you think that.\"]}, {'tag': 'default', 'patterns': ['exams', 'friends', 'relationship', 'boyfriend', 'girlfriend', 'family', 'money', 'financial problems'], 'responses': ['Oh I see. Tell me more', 'I see. What else?', 'Tell me more about it.', \"Oh okay. Why don't you tell me more about it?\", \"I'm listening. Tell me more.\"]}, {'tag': 'jokes', 'patterns': ['Tell me a joke', 'Tell me another joke'], 'responses': ['mental health is not a joke.']}, {'tag': 'repeat', 'patterns': ['You already told me that', 'You mentioned that already', 'Why are you repeating yourself?'], 'responses': [\"Oh sorry I didn't realise that. I'll try not to repeat myself again.\"]}, {'tag': 'wrong', 'patterns': ['What are you saying?', \"That doesn't make sense\", 'Wrong response', 'Wrong answer'], 'responses': [\"I'm very sorry. Let's try that again\"]}, {'tag': 'stupid', 'patterns': ['Are you stupid?', \"You're crazy\", 'You are dumb', 'Are you dumb?'], 'responses': [\"I wish you wouldn't say such hurtful things. I'm sorry if I wasn't useful\"]}, {'tag': 'location', 'patterns': ['Where are you?', 'Where do you live?', 'What is your location?'], 'responses': ['Duh I live in your computer', 'Everywhere', 'Somewhere in the universe']}, {'tag': 'something-else', 'patterns': ['I want to talk about something else', \"Let's talk about something else.\", 'Can we not talk about this?', \"I don't want to talk about this.\"], 'responses': ['Okay sure. What do you want to talk about?', 'Alright no problem. Is there something you want to talk about?', 'Is there something else that you want to talk about?']}, {'tag': 'friends', 'patterns': [\"I don't have any friends\"], 'responses': [\"I'm sorry to hear that. Just know that I'm here for you. Talking about it might help. Why do you think you don't have any friends?\"]}, {'tag': 'ask', 'patterns': ['Can I ask you something?'], 'responses': [\"Sure. I'll try my best to answer you\", \"Of course. Feel free to ask me anything. I'll do my best to answer you\"]}, {'tag': 'problem', 'patterns': [\"Probably because my exams are approaching. I feel stressed out because I don't think I've prepared well enough.\", 'probably because of my exams'], 'responses': ['I see. Have you taken any approaches to not feel this way?']}, {'tag': 'no-approach', 'patterns': ['I guess not. All I can think about are my exams.', 'not really', 'i guess not'], 'responses': [\"That's no problem. I can see why you'd be stressed out about that. I can suggest you some tips to alleviate this issue. Would you like to learn more about that?\"]}, {'tag': 'learn-more', 'patterns': ['ok sure. i would like to learn more about it.', 'yes, i would like to learn more about it.', 'i would like to learn more about it.'], 'responses': [\"So first I would suggest you to give yourself a break. Thinking more and more about the problem definitely does not help in solving it. You'll just end up overwhelming yourself.\"]}, {'tag': 'user-agree', 'patterns': [\"yeah you're right. i deserve a break.\", \"Yeah you're absolutely right about that\"], 'responses': ['Next, I would suggest you to practice meditation. Meditation can produce a deep state of relaxation and a tranquil mind.']}, {'tag': 'meditation', 'patterns': ['hmmm that sounds like it could be useful to me.', 'That sounds useful.'], 'responses': ['Focus all your attention on your breathing. Concentrate on feeling and listening as you inhale and exhale through your nostrils. Breathe deeply and slowly. When your attention wanders, gently return your focus to your breathing.']}, {'tag': 'user-meditation', 'patterns': ['i did what you said and i feel alot better. thank you very much.', 'I feel better now'], 'responses': [\"Your welcome. Remember: Always focus on what's within your control. When you find yourself worrying, take a minute to examine the things you have control over. You can't prevent a storm from coming but you can prepare for it. You can't control how someone else behaves, but you can control how you react. Recognize that sometimes, all you can control is your effort and your attitude. When you put your energy into the things you can control, you'll be much more effective.\"]}, {'tag': 'pandora-useful', 'patterns': [\"thank you very much again. i'll continue practicing meditation and focus on what i can control.\"], 'responses': [\"I'm glad you found this useful. Is there something else I can help you with?\"]}, {'tag': 'user-advice', 'patterns': ['I want some advice.', 'I need some advice.', 'I need advice on something'], 'responses': ['Sure. What can I do to help?', 'Okay what do you need advice on?']}, {'tag': 'learn-mental-health', 'patterns': ['I want to learn about mental health.', 'I want to learn more about mental health.', \"I'm interested in learning about mental health.\"], 'responses': [\"Oh that's really great. I'd be willing to answer anything that I know about it.\"]}, {'tag': 'mental-health-fact', 'patterns': ['Tell me a fact about mental health', 'Tell me another fact about mental health'], 'responses': ['According to a UNICEF report, One in seven Indians between 15-24 years of age feels depressed', '1 in 5 young people (age 13-18) has or will develop a mental illness in their lifetime.', 'Depression is the leading cause of disability worldwide.']}, {'tag': 'fact-1', 'patterns': ['What is mental health?', 'Define Mental Health'], 'responses': ['Mental health is a state of well-being in which the individual realizes his or her own abilities, can cope with the normal stresses of life, can work productively and fruitfully, and is able to make a contribution to his or her community', 'Mental health includes our emotional, psychological, and social well-being. It affects how we think, feel, and act. It also helps determine how we handle stress, relate to others, and make choices.']}, {'tag': 'fact-2', 'patterns': ['Why is mental health important?', 'What is the importance of mental health?'], 'responses': ['Maintaining mental health is crucial to stabilizing constructive behaviors, emotions, and thoughts. Focusing on mental health care can increase productivity, enhance our self-image, and improve relationships.']}, {'tag': 'fact-3', 'patterns': ['What is Depression?', 'Define Depression'], 'responses': ['A mental health disorder characterised by persistently depressed mood or loss of interest in activities, causing significant impairment in daily life.']}, {'tag': 'fact-5', 'patterns': ['How do i know if i have Depression?', 'Am i depressed?', 'Am i suffering from depression?', 'Am i mentally ill?'], 'responses': ['For a diagnosis of depression, a person needs to have experienced low mood or loss of interest or pleasure in life for at least 2 weeks. Also, they will have experienced the following symptoms: feelings of sadness, hopelessness, or irritability nearly every day.']}, {'tag': 'fact-6', 'patterns': ['What is a therapist?', 'What does a therapist do?'], 'responses': ['A therapist is a broad designation that refers to professionals who are trained to provide treatment and rehabilitation. The term is often applied to psychologists, but it can include others who provide a variety of services, including social workers, counselors, life coaches, and many others. ']}, {'tag': 'fact-7', 'patterns': ['What is therapy?', 'Do i need therapy?', 'Who is therapy for?'], 'responses': ['Therapy is a form of treatment that aims to help resolve mental or emotional issues.', 'Therapy is a form of treatment that aims to help resolve mental or emotional issues. It is helpful for those with mental health conditions or even everyday life challenges.']}, {'tag': 'fact-8', 'patterns': ['What does it mean to have a mental illness?'], 'responses': [\"Mental illnesses are health conditions that disrupt a person's thoughts, emotions, relationships, and daily functioning. They are associated with distress and diminished capacity to engage in the ordinary activities of daily life. Mental illnesses fall along a continuum of severity: some are fairly mild and only interfere with some aspects of life, such as certain phobias. On the other end of the spectrum lie serious mental illnesses, which result in major functional impairment and interference with daily life. These include such disorders as major depression, schizophrenia, and bipolar disorder, and may require that the person receives care in a hospital. It is important to know that mental illnesses are medical conditions that have nothing to do with a person's character, intelligence, or willpower. Just as diabetes is a disorder of the pancreas, mental illness is a medical condition due to the brain's biology. Similarly to how one would treat diabetes with medication and insulin, mental illness is treatable with a combination of medication and social support. These treatments are highly effective, with 70-90 percent of individuals receiving treatment experiencing a reduction in symptoms and an improved quality of life. With the proper treatment, it is very possible for a person with mental illness to be independent and successful.\"]}, {'tag': 'fact-9', 'patterns': ['Who does mental illness affect?'], 'responses': ['It is estimated that mental illness affects 1 in 5 adults in America, and that 1 in 24 adults have a serious mental illness. Mental illness does not discriminate; it can affect anyone, regardless of gender, age, income, social status, ethnicity, religion, sexual orientation, or background. Although mental illness can affect anyone, certain conditions may be more common in different populations. For instance, eating disorders tend to occur more often in females, while disorders such as attention deficit/hyperactivity disorder is more prevalent in children. Additionally, all ages are susceptible, but the young and the old are especially vulnerable. Mental illnesses usually strike individuals in the prime of their lives, with 75 percent of mental health conditions developing by the age of 24. This makes identification and treatment of mental disorders particularly difficult, because the normal personality and behavioral changes of adolescence may mask symptoms of a mental health condition. Parents and caretakers should be aware of this fact, and take notice of changes in their childÃ¢â‚¬â„¢s mood, personality, personal habits, and social withdrawal. When these occur in children under 18, they are referred to as serious emotional disturbances (SEDs).']}, {'tag': 'fact-10', 'patterns': ['What causes mental illness?'], 'responses': [\"It is estimated that mental illness affects 1 in 5 adults in America, and that 1 in 24 adults have a serious mental illness. Mental illness does not discriminate; it can affect anyone, regardless of gender, age, income, social status, ethnicity, religion, sexual orientation, or background. Although mental illness can affect anyone, certain conditions may be more common in different populations. For instance, eating disorders tend to occur more often in females, while disorders such as attention deficit/hyperactivity disorder is more prevalent in children. Additionally, all ages are susceptible, but the young and the old are especially vulnerable. Mental illnesses usually strike individuals in the prime of their lives, with 75 percent of mental health conditions developing by the age of 24. This makes identification and treatment of mental disorders particularly difficult, because the normal personality and behavioral changes of adolescence may mask symptoms of a mental health condition. Parents and caretakers should be aware of this fact, and take notice of changes in their child's mood, personality, personal habits, and social withdrawal. When these occur in children under 18, they are referred to as serious emotional disturbances (SEDs).\"]}, {'tag': 'fact-11', 'patterns': ['What are some of the warning signs of mental illness?'], 'responses': ['Symptoms of mental health disorders vary depending on the type and severity of the condition. The following is a list of general symptoms that may suggest a mental health disorder, particularly when multiple symptoms are expressed at once. \\n In adults:\\n Confused thinking\\n Long-lasting sadness or irritability\\n Extreme highs and lows in mood\\n Excessive fear, worrying, or anxiety\\n Social withdrawal\\n Dramatic changes in eating or sleeping habits\\n Strong feelings of anger\\n Delusions or hallucinations (seeing or hearing things that are not really there)\\n Increasing inability to cope with daily problems and activities\\n Thoughts of suicide\\n Denial of obvious problems\\n Many unexplained physical problems\\n Abuse of drugs and/or alcohol\\n \\nIn older children and pre-teens:\\n Abuse of drugs and/or alcohol\\n Inability to cope with daily problems and activities\\n Changes in sleeping and/or eating habits\\n Excessive complaints of physical problems\\n Defying authority, skipping school, stealing, or damaging property\\n Intense fear of gaining weight\\n Long-lasting negative mood, often along with poor appetite and thoughts of death\\n Frequent outbursts of anger\\n \\nIn younger children:\\n Changes in school performance\\n Poor grades despite strong efforts\\n Excessive worrying or anxiety\\n Hyperactivity\\n Persistent nightmares\\n Persistent disobedience and/or aggressive behavior\\n Frequent temper tantrums']}, {'tag': 'fact-12', 'patterns': ['Can people with mental illness recover?'], 'responses': ['When healing from mental illness, early identification and treatment are of vital importance. Based on the nature of the illness, there are a range of effective treatments available. For any type of treatment, it is essential that the person affected is proactive and fully engaged in their own recovery process. Many people with mental illnesses who are diagnosed and treated respond well, although some might experience a return of symptoms. Even in such cases, with careful monitoring and management of the disorder, it is still quite possible to live a fulfilled and productive life.']}, {'tag': 'fact-13', 'patterns': ['What should I do if I know someone who appears to have the symptoms of a mental disorder?'], 'responses': [\"Although Pandora cannot substitute for professional advice, we encourage those with symptoms to talk to their friends and family members and seek the counsel of a mental health professional. The sooner the mental health condition is identified and treated, the sooner they can get on the path to recovery. If you know someone who is having problems, don't assume that the issue will resolve itself. Let them know that you care about them, and that there are treatment options available that will help them heal. Speak with a mental health professional or counselor if you think your friend or family member is experiencing the symptoms of a mental health condition. If the affected loved one knows that you support them, they will be more likely to seek out help.\"]}, {'tag': 'fact-14', 'patterns': ['How can I find a mental health professional for myself or my child?'], 'responses': ['Feeling comfortable with the professional you or your child is working with is critical to the success of the treatment. Finding the professional who best fits your needs may require research. Start by searching for providers in your area.']}, {'tag': 'fact-15', 'patterns': ['What treatment options are available?'], 'responses': ['Just as there are different types of medications for physical illness, different treatment options are available for individuals with mental illness. Treatment works differently for different people. It is important to find what works best for you or your child.']}, {'tag': 'fact-16', 'patterns': ['If I become involved in treatment, what do I need to know?'], 'responses': [\"Since beginning treatment is a big step for individuals and families, it can be very overwhelming. It is important to be as involved and engaged in the treatment process as possible. Some questions you will need to have answered include:\\n What is known about the cause of this particular illness?\\n Are there other diagnoses where these symptoms are common?\\n Do you normally include a physical or neurological examination?\\n Are there any additional tests or exams that you would recommend at this point?\\n Would you advise an independent opinion from another psychiatrist at this point?\\n What program of treatment is the most helpful with this diagnosis?\\n Will this program involve services by other specialists? If so, who will be responsible for coordinating these services?\\n What do you see as the family's role in this program of treatment?\\n How much access will the family have to the individuals who are providing the treatment?\\n What medications are generally used with this diagnosis?\\n How much experience do you have in treating individuals with this illness?\\n What can I do to help you in the treatment?\"]}, {'tag': 'fact-17', 'patterns': ['What is the difference between mental health professionals?'], 'responses': ['There are many types of mental health professionals. The variety of providers and their services may be confusing. Each have various levels of education, training, and may have different areas of expertise. Finding the professional who best fits your needs may require some research.']}, {'tag': 'fact-18', 'patterns': ['How can I find a mental health professional right for my child or myself?'], 'responses': ['Feeling comfortable with the professional you or your child is working with is critical to the success of your treatment. Finding the professional who best fits your needs may require some research.']}, {'tag': 'fact-19', 'patterns': ['Where else can I get help?'], 'responses': ['Where you go for help will depend on the nature of the problem and/or symptoms and what best fits you. Often, the best place to start is by talking with someone you trust about your concerns, such as a family member, friend, clergy, healthcare provider, or other professionals. Having this social support is essential in healing from mental illness, and you will be able to ask them for referrals or recommendations for trusted mental health practitioners. Search for mental health resources in your area. Secondly, there are people and places throughout the country that provide services to talk, to listen, and to help you on your journey to recovery. Thirdly, many people find peer support a helpful tool that can aid in their recovery. There are a variety of organizations that offer support groups for consumers, their family members, and friends. Some support groups are peer led while others may be led by a mental health professional.']}, {'tag': 'fact-20', 'patterns': ['What should I know before starting a new medication?'], 'responses': ['The best source of information regarding medications is the physician prescribing them. He or she should be able to answer questions such as:    \\n1. What is the medication supposed to do? \\n2. When should it begin to take effect, and how will I know when it is effective? \\n3. How is the medication taken and for how long? What food, drinks, other medicines, and activities should be avoided while taking this medication? \\n4. What are the side effects and what should be done if they occur? \\n5. What do I do if a dose is missed? \\n6. Is there any written information available about this medication? \\n7. Are there other medications that might be appropriate? \\n8. If so, why do you prefer the one you have chosen? \\n9. How do you monitor medications and what symptoms indicate that they should be raised, lowered, or changed? \\n10. All medications should be taken as directed. Most medications for mental illnesses do not work when taken irregularly, and extra doses can cause severe, sometimes dangerous side effects. Many psychiatric medications begin to have a beneficial effect only after they have been taken for several weeks.']}, {'tag': 'fact-21', 'patterns': ['Where can I go to find therapy?'], 'responses': ['Different kinds of therapy are more effective based on the nature of the mental health condition and/or symptoms and the person who has them (for example, children will benefit from a therapist who specializes in childrenâ€™s mental health). However, there are several different types of treatment and therapy that can help.']}, {'tag': 'fact-22', 'patterns': ['Where can I learn about types of mental health treatment?'], 'responses': ['Mental health conditions are often treated with medication, therapy or a combination of the two. However, there are many different types of treatment available, including Complementary & Alternative Treatments, self-help plans, and peer support. Treatments are very personal and should be discussed by the person with the mental health conditions and his or her team.']}, {'tag': 'fact-23', 'patterns': ['What are the different types of mental health professionals?'], 'responses': ['There are many types of mental health professionals. Finding the right one for you may require some research.']}, {'tag': 'fact-24', 'patterns': ['Where can I go to find a support group?'], 'responses': ['Many people find peer support a helpful tool that can aid in their recovery. There are a variety of organizations that offer support groups for consumers, their family members and friends. Some support groups are peer-led, while others may be led by a mental health professional.']}, {'tag': 'fact-25', 'patterns': ['Can you prevent mental health problems?'], 'responses': ['We can all suffer from mental health challenges, but developing our wellbeing, resilience, and seeking help early can help prevent challenges becoming serious.']}, {'tag': 'fact-26', 'patterns': ['Are there cures for mental health problems?', 'is there any cure for mental health problems?'], 'responses': ['It is often more realistic and helpful to find out what helps with the issues you face. Talking, counselling, medication, friendships, exercise, good sleep and nutrition, and meaningful occupation can all help.']}, {'tag': 'fact-27', 'patterns': ['What causes mental health problems?'], 'responses': ['Challenges or problems with your mental health can arise from psychological, biological, and social, issues, as well as life events.']}, {'tag': 'fact-28', 'patterns': [\"What do I do if I'm worried about my mental health?\"], 'responses': ['The most important thing is to talk to someone you trust. This might be a friend, colleague, family member, or GP. In addition to talking to someone, it may be useful to find out more information about what you are experiencing. These things may help to get some perspective on what you are experiencing, and be the start of getting help.']}, {'tag': 'fact-29', 'patterns': [\"How do I know if I'm unwell?\"], 'responses': ['If your beliefs , thoughts , feelings or behaviours have a significant impact on your ability to function in what might be considered a normal or ordinary way, it would be important to seek help.']}, {'tag': 'fact-30', 'patterns': ['How can I maintain social connections? What if I feel lonely?'], 'responses': [\"A lot of people are alone right now, but we don't have to be lonely. We're all in this together. Think about the different ways to connect that are most meaningful for you. For example, you might prefer a video chat over a phone call, or you might prefer to text throughout the day rather than one set time for a video call. Then, work with your social networks to make a plan. You might video chat with your close friends in the evening and phone a family member once a week. Remember to be mindful of people who may not be online. Check in by phone and ask how you can help. The quality of your social connections matter. Mindlessly scrolling through social media and liking a few posts usually doesn't build strong social connections. Make sure you focus on strategies that actually make you feel included and connected. If your current strategies don't help you feel connected, problem-solve to see if you can find a solution. Everyone feels lonely at times. Maybe you recently moved to a new city, are changing your circle of friends, lost someone important in your life, or lost your job and also lost important social connections with coworkers. Other people may have physical connections to others but may feel like their emotional or social needs aren't met. Measures like social distancing or self-isolation can make loneliness feel worse no matter why you feel lonely now. Reach out to the connections you do have. Suggest ways to keep in touch and see if you can set a regular time to connect. People may hesitate to reach out for a lot of different reasons, so don't be afraid to be the one who asks. Look for local community support groups and mutual aid groups on social media. This pandemic is bringing everyone together, so look for opportunities to make new connections. These groups are a great way to share your skills and abilities or seek help and support. Look for specialized support groups. Support groups are moving online, and there are a lot of different support lines to call if you need to talk to someone.\"]}, {'tag': 'fact-31', 'patterns': [\"What's the difference between anxiety and stress?\"], 'responses': [\"Stress and anxiety are often used interchangeably, and there is overlap between stress and anxiety. Stress is related to the same fight, flight, or freeze response as anxiety, and the physical sensations of anxiety and stress may be very similar. The cause of stress and anxiety are usually different, however. Stress focuses on mainly external pressures on us that we're finding hard to cope with. When we are stressed, we usually know what we're stressed about, and the symptoms of stress typically disappear after the stressful situation is over. Anxiety, on the other hand, isn't always as easy to figure out. Anxiety focuses on worries or fears about things that could threaten us, as well as anxiety about the anxiety itself. Stress and anxiety are both part of being human, but both can be problems if they last for a long time or have an impact on our well-being or daily life.\"]}, {'tag': 'fact-32', 'patterns': [\"What's the difference between sadness and depression?\", 'difference between sadness and depression'], 'responses': [\"Sadness is a normal reaction to a loss, disappointment, problems, or other difficult situations. Feeling sad from time to time is just another part of being human. In these cases, feelings of sadness go away quickly and you can go about your daily life. Other ways to talk about sadness might be feeling low, feeling down, or feeling blue.A person may say they are feeling depressed, but if it goes away on its own and doesn't impact life in a big way, it probably isn't the illness of depression. Depression is a mental illness that affects your mood, the way you understand yourself, and the way you understand and relate to things around you. It can also go by different names, such as clinical depression, major depressive disorder, or major depression. Depression can come up for no reason, and it lasts for a long time. It's much more than sadness or low mood. People who experience depression may feel worthless or hopeless. They may feel unreasonable guilty. Some people may experience depression as anger or irritability. It may be hard to concentrate or make decisions. Most people lose interest in things that they used to enjoy and may isolate themselves from others. There are also physical signs of depression, such as problems with sleep, appetite and energy and unexplainable aches or pains. Some may experience difficult thoughts about death or ending their life (suicide). Depression lasts longer than two weeks, doesn't usually go away on its own, and impacts your life. It's a real illness, and it is very treatable. It's important to seek help if you're concerned about depression.\"]}]\n",
      "         tag                                           patterns  \\\n",
      "0   greeting  [Hi, Hey, Is anyone there?, Hi there, Hello, H...   \n",
      "1    morning                                     [Good morning]   \n",
      "2  afternoon                                   [Good afternoon]   \n",
      "3    evening                                     [Good evening]   \n",
      "4      night                                       [Good night]   \n",
      "\n",
      "                                           responses  \n",
      "0  [Hello there. Tell me how are you feeling toda...  \n",
      "1  [Good morning. I hope you had a good night's s...  \n",
      "2           [Good afternoon. How is your day going?]  \n",
      "3             [Good evening. How has your day been?]  \n",
      "4  [Good night. Get some proper sleep, Good night...  \n"
     ]
    }
   ],
   "source": [
    "import json\n",
    "from pandas import json_normalize\n",
    "\n",
    "# Read JSON data from a file\n",
    "with open('intents.json', 'r') as file:\n",
    "    data = json.load(file)\n",
    "print(data['intents'])\n",
    "# Normalize nested data\n",
    "intents = json_normalize(data['intents'])\n",
    "print(intents.head())"
   ]
  },
  {
   "cell_type": "code",
   "execution_count": null,
   "id": "3bce5076-dbd8-430f-a4af-34a5635b670c",
   "metadata": {},
   "outputs": [],
   "source": []
  }
 ],
 "metadata": {
  "kernelspec": {
   "display_name": "Python [conda env:base] *",
   "language": "python",
   "name": "conda-base-py"
  },
  "language_info": {
   "codemirror_mode": {
    "name": "ipython",
    "version": 3
   },
   "file_extension": ".py",
   "mimetype": "text/x-python",
   "name": "python",
   "nbconvert_exporter": "python",
   "pygments_lexer": "ipython3",
   "version": "3.12.7"
  }
 },
 "nbformat": 4,
 "nbformat_minor": 5
}
