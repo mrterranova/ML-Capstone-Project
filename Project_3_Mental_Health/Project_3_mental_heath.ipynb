{
 "cells": [
  {
   "cell_type": "code",
   "execution_count": 1,
   "id": "db3151d1-f784-4a7b-8f34-210c8ad0abc0",
   "metadata": {},
   "outputs": [
    {
     "name": "stdout",
     "output_type": "stream",
     "text": [
      "       subreddit           author      date  \\\n",
      "0  healthanxiety         Nomis176  1/1/2018   \n",
      "1  healthanxiety  psychstudent317  1/1/2018   \n",
      "2  healthanxiety        bulk_barn  1/1/2018   \n",
      "3  healthanxiety    AutoModerator  1/1/2018   \n",
      "4  healthanxiety    parthkhurana7  1/1/2018   \n",
      "\n",
      "                                                post  \\\n",
      "0  Final doctor appointment tomorrow, tired of co...   \n",
      "1  Anyone have bone or muscle pain that was stres...   \n",
      "2  Listening to your body? I'm curious how those ...   \n",
      "3  Weekly /r/HealthAnxiety Challenge - Exercise A...   \n",
      "4  This is killing me So i had a bacterial stomac...   \n",
      "\n",
      "   automated_readability_index  coleman_liau_index  \\\n",
      "0                     9.137909            7.282428   \n",
      "1                     4.399892            7.131386   \n",
      "2                     3.590660            4.930895   \n",
      "3                     4.515682            7.033342   \n",
      "4                     3.034388            5.356252   \n",
      "\n",
      "   flesch_kincaid_grade_level  flesch_reading_ease  gulpease_index  \\\n",
      "0                    8.616061            72.474091       61.090909   \n",
      "1                    3.665806            87.185376       74.161290   \n",
      "2                    4.605802            85.640967       72.584906   \n",
      "3                    5.059091            78.383636       72.863636   \n",
      "4                    3.977494            85.306958       76.721519   \n",
      "\n",
      "   gunning_fog_index  ...  tfidf_wish  tfidf_without  tfidf_wonder  \\\n",
      "0          11.345455  ...         0.0            0.0           0.0   \n",
      "1           5.423656  ...         0.0            0.0           0.0   \n",
      "2           7.564151  ...         0.0            0.0           0.0   \n",
      "3           8.945455  ...         0.0            0.0           0.0   \n",
      "4           7.757637  ...         0.0            0.0           0.0   \n",
      "\n",
      "   tfidf_work  tfidf_worri  tfidf_wors  tfidf_would  tfidf_wrong  tfidf_x200b  \\\n",
      "0    0.000000     0.000000         0.0          0.0     0.000000          0.0   \n",
      "1    0.000000     0.290466         0.0          0.0     0.000000          0.0   \n",
      "2    0.110757     0.000000         0.0          0.0     0.332673          0.0   \n",
      "3    0.000000     0.000000         0.0          0.0     0.000000          0.0   \n",
      "4    0.000000     0.000000         0.0          0.0     0.000000          0.0   \n",
      "\n",
      "   tfidf_year  \n",
      "0    0.055919  \n",
      "1    0.000000  \n",
      "2    0.000000  \n",
      "3    0.000000  \n",
      "4    0.000000  \n",
      "\n",
      "[5 rows x 350 columns]\n"
     ]
    }
   ],
   "source": [
    "import pandas as pd\n",
    "\n",
    "health_anxiety_dataset = pd.read_csv('healthanxiety_dataset.csv')\n",
    "# Print sample of the data\n",
    "print(health_anxiety_dataset.head())"
   ]
  },
  {
   "cell_type": "code",
   "execution_count": 2,
   "id": "7d5c5421-927a-4e05-a55b-d1c456e66888",
   "metadata": {},
   "outputs": [
    {
     "name": "stdout",
     "output_type": "stream",
     "text": [
      "(1967, 350)\n"
     ]
    }
   ],
   "source": [
    "# Size of the data\n",
    "print (health_anxiety_dataset.shape)"
   ]
  },
  {
   "cell_type": "code",
   "execution_count": 3,
   "id": "0549a779-58e4-4791-85bb-dc4f21da2cb2",
   "metadata": {},
   "outputs": [
    {
     "name": "stdout",
     "output_type": "stream",
     "text": [
      "['subreddit', 'author', 'date', 'post', 'automated_readability_index', 'coleman_liau_index', 'flesch_kincaid_grade_level', 'flesch_reading_ease', 'gulpease_index', 'gunning_fog_index', 'lix', 'smog_index', 'wiener_sachtextformel', 'n_chars', 'n_long_words', 'n_monosyllable_words', 'n_polysyllable_words', 'n_sents', 'n_syllables', 'n_unique_words', 'n_words', 'sent_neg', 'sent_neu', 'sent_pos', 'sent_compound', 'economic_stress_total', 'isolation_total', 'substance_use_total', 'guns_total', 'domestic_stress_total', 'suicidality_total', 'punctuation', 'liwc_1st_pers', 'liwc_2nd_pers', 'liwc_3rd_pers', 'liwc_achievement', 'liwc_adverbs', 'liwc_affective_processes', 'liwc_anger', 'liwc_anxiety', 'liwc_articles_article', 'liwc_assent', 'liwc_auxiliary_verbs', 'liwc_biological', 'liwc_body', 'liwc_causation', 'liwc_certainty', 'liwc_cognitive', 'liwc_common_verbs', 'liwc_conjunctions', 'liwc_death', 'liwc_discrepancy', 'liwc_exclusive', 'liwc_family', 'liwc_feel', 'liwc_fillers', 'liwc_friends', 'liwc_future_tense', 'liwc_health', 'liwc_hear', 'liwc_home', 'liwc_humans', 'liwc_impersonal_pronouns', 'liwc_inclusive', 'liwc_ingestion', 'liwc_inhibition', 'liwc_insight', 'liwc_leisure', 'liwc_money', 'liwc_motion', 'liwc_negations', 'liwc_negative_emotion', 'liwc_nonfluencies', 'liwc_numbers', 'liwc_past_tense', 'liwc_perceptual_processes', 'liwc_personal_pronouns', 'liwc_positive_emotion', 'liwc_prepositions', 'liwc_present_tense', 'liwc_quantifiers', 'liwc_relativity', 'liwc_religion', 'liwc_sadness', 'liwc_see', 'liwc_sexual', 'liwc_social_processes', 'liwc_space', 'liwc_swear_words', 'liwc_tentative', 'liwc_time', 'liwc_total_functional', 'liwc_total_pronouns', 'liwc_work', 'tfidf_abl', 'tfidf_abus', 'tfidf_actual', 'tfidf_addict', 'tfidf_adhd', 'tfidf_advic', 'tfidf_ago', 'tfidf_alcohol', 'tfidf_almost', 'tfidf_alon', 'tfidf_alreadi', 'tfidf_also', 'tfidf_alway', 'tfidf_amp', 'tfidf_amp x200b', 'tfidf_ani', 'tfidf_anoth', 'tfidf_anxieti', 'tfidf_anxious', 'tfidf_anymor', 'tfidf_anyon', 'tfidf_anyon els', 'tfidf_anyth', 'tfidf_around', 'tfidf_ask', 'tfidf_attack', 'tfidf_away', 'tfidf_back', 'tfidf_bad', 'tfidf_becaus', 'tfidf_becom', 'tfidf_befor', 'tfidf_believ', 'tfidf_best', 'tfidf_better', 'tfidf_bit', 'tfidf_bodi', 'tfidf_bpd', 'tfidf_brain', 'tfidf_call', 'tfidf_came', 'tfidf_care', 'tfidf_caus', 'tfidf_chang', 'tfidf_come', 'tfidf_complet', 'tfidf_constant', 'tfidf_control', 'tfidf_could', 'tfidf_coupl', 'tfidf_cri', 'tfidf_day', 'tfidf_deal', 'tfidf_depress', 'tfidf_diagnos', 'tfidf_die', 'tfidf_differ', 'tfidf_disord', 'tfidf_doctor', 'tfidf_doe', 'tfidf_done', 'tfidf_dont', 'tfidf_drink', 'tfidf_drug', 'tfidf_eat', 'tfidf_els', 'tfidf_emot', 'tfidf_end', 'tfidf_enough', 'tfidf_etc', 'tfidf_even', 'tfidf_ever', 'tfidf_everi', 'tfidf_everyon', 'tfidf_everyth', 'tfidf_experi', 'tfidf_famili', 'tfidf_fear', 'tfidf_feel', 'tfidf_feel like', 'tfidf_felt', 'tfidf_final', 'tfidf_find', 'tfidf_first', 'tfidf_food', 'tfidf_found', 'tfidf_friend', 'tfidf_fuck', 'tfidf_get', 'tfidf_give', 'tfidf_go', 'tfidf_good', 'tfidf_got', 'tfidf_great', 'tfidf_guess', 'tfidf_guy', 'tfidf_happen', 'tfidf_happi', 'tfidf_hard', 'tfidf_hate', 'tfidf_head', 'tfidf_health', 'tfidf_hear', 'tfidf_heart', 'tfidf_help', 'tfidf_high', 'tfidf_home', 'tfidf_hope', 'tfidf_hour', 'tfidf_hous', 'tfidf_hurt', 'tfidf_idea', 'tfidf_im', 'tfidf_issu', 'tfidf_job', 'tfidf_keep', 'tfidf_kill', 'tfidf_kind', 'tfidf_know', 'tfidf_last', 'tfidf_late', 'tfidf_leav', 'tfidf_left', 'tfidf_let', 'tfidf_life', 'tfidf_like', 'tfidf_littl', 'tfidf_live', 'tfidf_long', 'tfidf_look', 'tfidf_lose', 'tfidf_lost', 'tfidf_lot', 'tfidf_love', 'tfidf_made', 'tfidf_make', 'tfidf_mani', 'tfidf_mayb', 'tfidf_mean', 'tfidf_med', 'tfidf_medic', 'tfidf_mental', 'tfidf_might', 'tfidf_mind', 'tfidf_mom', 'tfidf_month', 'tfidf_move', 'tfidf_much', 'tfidf_need', 'tfidf_never', 'tfidf_new', 'tfidf_next', 'tfidf_night', 'tfidf_normal', 'tfidf_noth', 'tfidf_notic', 'tfidf_old', 'tfidf_onc', 'tfidf_one', 'tfidf_onli', 'tfidf_pain', 'tfidf_panic', 'tfidf_parent', 'tfidf_part', 'tfidf_past', 'tfidf_peopl', 'tfidf_person', 'tfidf_place', 'tfidf_pleas', 'tfidf_point', 'tfidf_possibl', 'tfidf_post', 'tfidf_pretti', 'tfidf_probabl', 'tfidf_problem', 'tfidf_ptsd', 'tfidf_put', 'tfidf_question', 'tfidf_quit', 'tfidf_read', 'tfidf_real', 'tfidf_realli', 'tfidf_reason', 'tfidf_recent', 'tfidf_relationship', 'tfidf_rememb', 'tfidf_right', 'tfidf_said', 'tfidf_say', 'tfidf_scare', 'tfidf_school', 'tfidf_see', 'tfidf_seem', 'tfidf_self', 'tfidf_sever', 'tfidf_shit', 'tfidf_sinc', 'tfidf_situat', 'tfidf_sleep', 'tfidf_social', 'tfidf_someon', 'tfidf_someth', 'tfidf_sometim', 'tfidf_sorri', 'tfidf_start', 'tfidf_stay', 'tfidf_still', 'tfidf_stop', 'tfidf_stress', 'tfidf_struggl', 'tfidf_stuff', 'tfidf_suicid', 'tfidf_support', 'tfidf_sure', 'tfidf_symptom', 'tfidf_take', 'tfidf_talk', 'tfidf_tell', 'tfidf_thank', 'tfidf_therapi', 'tfidf_therapist', 'tfidf_thing', 'tfidf_think', 'tfidf_though', 'tfidf_thought', 'tfidf_time', 'tfidf_tire', 'tfidf_today', 'tfidf_told', 'tfidf_took', 'tfidf_tri', 'tfidf_turn', 'tfidf_two', 'tfidf_understand', 'tfidf_us', 'tfidf_use', 'tfidf_usual', 'tfidf_veri', 'tfidf_want', 'tfidf_way', 'tfidf_week', 'tfidf_weight', 'tfidf_well', 'tfidf_went', 'tfidf_whi', 'tfidf_whole', 'tfidf_wish', 'tfidf_without', 'tfidf_wonder', 'tfidf_work', 'tfidf_worri', 'tfidf_wors', 'tfidf_would', 'tfidf_wrong', 'tfidf_x200b', 'tfidf_year']\n"
     ]
    }
   ],
   "source": [
    "# Different columns in the set\n",
    "print(health_anxiety_dataset.columns.tolist())"
   ]
  },
  {
   "cell_type": "code",
   "execution_count": 4,
   "id": "92bc4db5-6afb-4f5d-9144-e05aaa03c4d8",
   "metadata": {},
   "outputs": [
    {
     "name": "stdout",
     "output_type": "stream",
     "text": [
      "   age      gender employment_status work_environment mental_health_history  \\\n",
      "0   56        Male          Employed          On-site                   Yes   \n",
      "1   46      Female           Student          On-site                    No   \n",
      "2   32      Female          Employed          On-site                   Yes   \n",
      "3   60  Non-binary     Self-employed          On-site                    No   \n",
      "4   25      Female     Self-employed          On-site                   Yes   \n",
      "\n",
      "  seeks_treatment  stress_level  sleep_hours  physical_activity_days  \\\n",
      "0             Yes             6          6.2                       3   \n",
      "1             Yes            10          9.0                       4   \n",
      "2              No             7          7.7                       2   \n",
      "3              No             4          4.5                       4   \n",
      "4             Yes             3          5.4                       0   \n",
      "\n",
      "   depression_score  anxiety_score  social_support_score  productivity_score  \\\n",
      "0                28             17                    54                59.7   \n",
      "1                30             11                    85                54.9   \n",
      "2                24              7                    62                61.3   \n",
      "3                 6              0                    95                97.0   \n",
      "4                24             12                    70                69.0   \n",
      "\n",
      "  mental_health_risk  \n",
      "0               High  \n",
      "1               High  \n",
      "2             Medium  \n",
      "3                Low  \n",
      "4               High  \n"
     ]
    }
   ],
   "source": [
    "# data set for lifestyle and anxiety\n",
    "mental_health_dataset = pd.read_csv('mental_health_dataset.csv')\n",
    "# Print sample of the data\n",
    "print(mental_health_dataset.head())"
   ]
  },
  {
   "cell_type": "code",
   "execution_count": 5,
   "id": "4e69ae38-9fe4-4092-a300-4feb9b6c8ddc",
   "metadata": {},
   "outputs": [
    {
     "data": {
      "text/plain": [
       "(10000, 14)"
      ]
     },
     "execution_count": 5,
     "metadata": {},
     "output_type": "execute_result"
    }
   ],
   "source": [
    "mental_health_dataset.shape"
   ]
  },
  {
   "cell_type": "code",
   "execution_count": 6,
   "id": "3f54ce29-81e1-4aa3-b330-c7badb8bea77",
   "metadata": {},
   "outputs": [
    {
     "data": {
      "text/plain": [
       "['age',\n",
       " 'gender',\n",
       " 'employment_status',\n",
       " 'work_environment',\n",
       " 'mental_health_history',\n",
       " 'seeks_treatment',\n",
       " 'stress_level',\n",
       " 'sleep_hours',\n",
       " 'physical_activity_days',\n",
       " 'depression_score',\n",
       " 'anxiety_score',\n",
       " 'social_support_score',\n",
       " 'productivity_score',\n",
       " 'mental_health_risk']"
      ]
     },
     "execution_count": 6,
     "metadata": {},
     "output_type": "execute_result"
    }
   ],
   "source": [
    "mental_health_dataset.columns.tolist()"
   ]
  },
  {
   "cell_type": "code",
   "execution_count": 9,
   "id": "849cfdfd-c44d-44ec-9ff8-7d5d9420a9a6",
   "metadata": {},
   "outputs": [
    {
     "name": "stdout",
     "output_type": "stream",
     "text": [
      "     Country  Age  Gender Exercise Level   Diet Type  Sleep Hours  \\\n",
      "0     Brazil   48    Male            Low  Vegetarian          6.3   \n",
      "1  Australia   31    Male       Moderate       Vegan          4.9   \n",
      "2      Japan   37  Female            Low  Vegetarian          7.2   \n",
      "3     Brazil   35    Male            Low       Vegan          7.2   \n",
      "4    Germany   46    Male            Low    Balanced          7.3   \n",
      "\n",
      "  Stress Level Mental Health Condition  Work Hours per Week  \\\n",
      "0          Low                     NaN                   21   \n",
      "1          Low                    PTSD                   48   \n",
      "2         High                     NaN                   43   \n",
      "3          Low              Depression                   43   \n",
      "4          Low                 Anxiety                   35   \n",
      "\n",
      "   Screen Time per Day (Hours)  Social Interaction Score  Happiness Score  \n",
      "0                          4.0                       7.8              6.5  \n",
      "1                          5.2                       8.2              6.8  \n",
      "2                          4.7                       9.6              9.7  \n",
      "3                          2.2                       8.2              6.6  \n",
      "4                          3.6                       4.7              4.4  \n"
     ]
    }
   ],
   "source": [
    "# Second data set for lifestyle and anxiety \n",
    "lifestyle = pd.read_csv('Mental_Health_Lifestyle_Dataset.csv')\n",
    "# Print sample of the data\n",
    "print(lifestyle.head())"
   ]
  },
  {
   "cell_type": "code",
   "execution_count": 10,
   "id": "e7774150-b70e-4c2e-8a02-0b9459e2f4ca",
   "metadata": {},
   "outputs": [
    {
     "data": {
      "text/plain": [
       "(3000, 12)"
      ]
     },
     "execution_count": 10,
     "metadata": {},
     "output_type": "execute_result"
    }
   ],
   "source": [
    "lifestyle.shape"
   ]
  },
  {
   "cell_type": "code",
   "execution_count": 11,
   "id": "724afccf-25a0-4ba5-9a7d-d4db428cc6d9",
   "metadata": {},
   "outputs": [
    {
     "data": {
      "text/plain": [
       "['Country',\n",
       " 'Age',\n",
       " 'Gender',\n",
       " 'Exercise Level',\n",
       " 'Diet Type',\n",
       " 'Sleep Hours',\n",
       " 'Stress Level',\n",
       " 'Mental Health Condition',\n",
       " 'Work Hours per Week',\n",
       " 'Screen Time per Day (Hours)',\n",
       " 'Social Interaction Score',\n",
       " 'Happiness Score']"
      ]
     },
     "execution_count": 11,
     "metadata": {},
     "output_type": "execute_result"
    }
   ],
   "source": [
    "lifestyle.columns.tolist()"
   ]
  },
  {
   "cell_type": "code",
   "execution_count": 12,
   "id": "c0d7ecc0-096f-4b6e-bd59-8989f1e5fb44",
   "metadata": {},
   "outputs": [
    {
     "data": {
      "text/html": [
       "<div>\n",
       "<style scoped>\n",
       "    .dataframe tbody tr th:only-of-type {\n",
       "        vertical-align: middle;\n",
       "    }\n",
       "\n",
       "    .dataframe tbody tr th {\n",
       "        vertical-align: top;\n",
       "    }\n",
       "\n",
       "    .dataframe thead th {\n",
       "        text-align: right;\n",
       "    }\n",
       "</style>\n",
       "<table border=\"1\" class=\"dataframe\">\n",
       "  <thead>\n",
       "    <tr style=\"text-align: right;\">\n",
       "      <th></th>\n",
       "      <th>Participant</th>\n",
       "      <th>DASS_Anxiety_Score</th>\n",
       "      <th>DASS_Stress_Scores</th>\n",
       "      <th>DASS_Depression_Scores</th>\n",
       "      <th>Speech_Anxiety_Score</th>\n",
       "      <th>Speech_Avoidance_Score</th>\n",
       "      <th>Bug_Anxiety_Score</th>\n",
       "      <th>Bug_Avoidance_Score</th>\n",
       "      <th>Age</th>\n",
       "      <th>Gender</th>\n",
       "      <th>...</th>\n",
       "      <th>Speech_Anticipate_Timestamp</th>\n",
       "      <th>Speech_Preperation_Timestamp</th>\n",
       "      <th>Speech_Decision_Timestamp</th>\n",
       "      <th>Speech_SUDS</th>\n",
       "      <th>Speech_Exposure_Timestamp</th>\n",
       "      <th>Speech_Exposure_SUDS</th>\n",
       "      <th>Speech_Break_Timestamp</th>\n",
       "      <th>Speech_Break_SUDS</th>\n",
       "      <th>Speech_Reflect_Timestamp</th>\n",
       "      <th>End</th>\n",
       "    </tr>\n",
       "  </thead>\n",
       "  <tbody>\n",
       "    <tr>\n",
       "      <th>0</th>\n",
       "      <td>P1</td>\n",
       "      <td>14</td>\n",
       "      <td>13</td>\n",
       "      <td>11</td>\n",
       "      <td>6</td>\n",
       "      <td>1</td>\n",
       "      <td>10</td>\n",
       "      <td>10</td>\n",
       "      <td>21-25</td>\n",
       "      <td>F</td>\n",
       "      <td>...</td>\n",
       "      <td>1606341647846</td>\n",
       "      <td>1606341665848</td>\n",
       "      <td>1606341868850</td>\n",
       "      <td>20</td>\n",
       "      <td>1606341907124</td>\n",
       "      <td>20</td>\n",
       "      <td>1606342114126</td>\n",
       "      <td>0</td>\n",
       "      <td>1606342302128</td>\n",
       "      <td>1606342333141</td>\n",
       "    </tr>\n",
       "    <tr>\n",
       "      <th>1</th>\n",
       "      <td>P2</td>\n",
       "      <td>10</td>\n",
       "      <td>13</td>\n",
       "      <td>4</td>\n",
       "      <td>8</td>\n",
       "      <td>4</td>\n",
       "      <td>5</td>\n",
       "      <td>4</td>\n",
       "      <td>21-25</td>\n",
       "      <td>M</td>\n",
       "      <td>...</td>\n",
       "      <td>1606350694651</td>\n",
       "      <td>1606350712653</td>\n",
       "      <td>1606350915655</td>\n",
       "      <td>0</td>\n",
       "      <td>1606350956474</td>\n",
       "      <td>0</td>\n",
       "      <td>1606351163478</td>\n",
       "      <td>0</td>\n",
       "      <td>1606351351479</td>\n",
       "      <td>1606352822519</td>\n",
       "    </tr>\n",
       "    <tr>\n",
       "      <th>2</th>\n",
       "      <td>P3</td>\n",
       "      <td>8</td>\n",
       "      <td>15</td>\n",
       "      <td>14</td>\n",
       "      <td>5</td>\n",
       "      <td>5</td>\n",
       "      <td>8</td>\n",
       "      <td>10</td>\n",
       "      <td>26-30</td>\n",
       "      <td>M</td>\n",
       "      <td>...</td>\n",
       "      <td>1606365226358</td>\n",
       "      <td>1606365244359</td>\n",
       "      <td>1606365507702</td>\n",
       "      <td>20</td>\n",
       "      <td>1606365547435</td>\n",
       "      <td>10</td>\n",
       "      <td>1606365754437</td>\n",
       "      <td>0</td>\n",
       "      <td>1606365942438</td>\n",
       "      <td>1606366196866</td>\n",
       "    </tr>\n",
       "    <tr>\n",
       "      <th>3</th>\n",
       "      <td>P4</td>\n",
       "      <td>8</td>\n",
       "      <td>15</td>\n",
       "      <td>1</td>\n",
       "      <td>8</td>\n",
       "      <td>6</td>\n",
       "      <td>3</td>\n",
       "      <td>5</td>\n",
       "      <td>21-25</td>\n",
       "      <td>F</td>\n",
       "      <td>...</td>\n",
       "      <td>1606375694124</td>\n",
       "      <td>1606376620273</td>\n",
       "      <td>1606376832275</td>\n",
       "      <td>50</td>\n",
       "      <td>1606376874136</td>\n",
       "      <td>70</td>\n",
       "      <td>1606377081139</td>\n",
       "      <td>20</td>\n",
       "      <td>1606377269141</td>\n",
       "      <td>1606378401462</td>\n",
       "    </tr>\n",
       "    <tr>\n",
       "      <th>4</th>\n",
       "      <td>P5</td>\n",
       "      <td>10</td>\n",
       "      <td>30</td>\n",
       "      <td>25</td>\n",
       "      <td>12</td>\n",
       "      <td>11</td>\n",
       "      <td>11</td>\n",
       "      <td>13</td>\n",
       "      <td>31-35</td>\n",
       "      <td>M</td>\n",
       "      <td>...</td>\n",
       "      <td>1606457850462</td>\n",
       "      <td>1606457868464</td>\n",
       "      <td>1606458130719</td>\n",
       "      <td>50</td>\n",
       "      <td>1606458171398</td>\n",
       "      <td>20</td>\n",
       "      <td>1606458378400</td>\n",
       "      <td>10</td>\n",
       "      <td>1606458566403</td>\n",
       "      <td>1606458783829</td>\n",
       "    </tr>\n",
       "  </tbody>\n",
       "</table>\n",
       "<p>5 rows × 40 columns</p>\n",
       "</div>"
      ],
      "text/plain": [
       "  Participant  DASS_Anxiety_Score  DASS_Stress_Scores  DASS_Depression_Scores  \\\n",
       "0          P1                  14                  13                      11   \n",
       "1          P2                  10                  13                       4   \n",
       "2          P3                   8                  15                      14   \n",
       "3          P4                   8                  15                       1   \n",
       "4          P5                  10                  30                      25   \n",
       "\n",
       "   Speech_Anxiety_Score  Speech_Avoidance_Score  Bug_Anxiety_Score  \\\n",
       "0                     6                       1                 10   \n",
       "1                     8                       4                  5   \n",
       "2                     5                       5                  8   \n",
       "3                     8                       6                  3   \n",
       "4                    12                      11                 11   \n",
       "\n",
       "   Bug_Avoidance_Score    Age Gender  ... Speech_Anticipate_Timestamp  \\\n",
       "0                   10  21-25      F  ...               1606341647846   \n",
       "1                    4  21-25      M  ...               1606350694651   \n",
       "2                   10  26-30      M  ...               1606365226358   \n",
       "3                    5  21-25      F  ...               1606375694124   \n",
       "4                   13  31-35      M  ...               1606457850462   \n",
       "\n",
       "   Speech_Preperation_Timestamp  Speech_Decision_Timestamp  Speech_SUDS  \\\n",
       "0                 1606341665848              1606341868850           20   \n",
       "1                 1606350712653              1606350915655            0   \n",
       "2                 1606365244359              1606365507702           20   \n",
       "3                 1606376620273              1606376832275           50   \n",
       "4                 1606457868464              1606458130719           50   \n",
       "\n",
       "  Speech_Exposure_Timestamp  Speech_Exposure_SUDS  Speech_Break_Timestamp  \\\n",
       "0             1606341907124                    20           1606342114126   \n",
       "1             1606350956474                     0           1606351163478   \n",
       "2             1606365547435                    10           1606365754437   \n",
       "3             1606376874136                    70           1606377081139   \n",
       "4             1606458171398                    20           1606458378400   \n",
       "\n",
       "   Speech_Break_SUDS  Speech_Reflect_Timestamp            End  \n",
       "0                  0             1606342302128  1606342333141  \n",
       "1                  0             1606351351479  1606352822519  \n",
       "2                  0             1606365942438  1606366196866  \n",
       "3                 20             1606377269141  1606378401462  \n",
       "4                 10             1606458566403  1606458783829  \n",
       "\n",
       "[5 rows x 40 columns]"
      ]
     },
     "execution_count": 12,
     "metadata": {},
     "output_type": "execute_result"
    }
   ],
   "source": [
    "participants = pd.read_csv('participants_details.csv')\n",
    "participants.head()"
   ]
  },
  {
   "cell_type": "code",
   "execution_count": 13,
   "id": "e4077ddd-3a78-4e9e-947d-0ae5abba0ea5",
   "metadata": {},
   "outputs": [
    {
     "data": {
      "text/plain": [
       "(95, 40)"
      ]
     },
     "execution_count": 13,
     "metadata": {},
     "output_type": "execute_result"
    }
   ],
   "source": [
    "participants.shape"
   ]
  },
  {
   "cell_type": "code",
   "execution_count": 23,
   "id": "08e17d9a-f604-450c-91de-85835151ffd8",
   "metadata": {},
   "outputs": [
    {
     "data": {
      "text/plain": [
       "['Participant',\n",
       " 'DASS_Anxiety_Score',\n",
       " 'DASS_Stress_Scores',\n",
       " 'DASS_Depression_Scores',\n",
       " 'Speech_Anxiety_Score',\n",
       " 'Speech_Avoidance_Score',\n",
       " 'Bug_Anxiety_Score',\n",
       " 'Bug_Avoidance_Score',\n",
       " 'Age',\n",
       " 'Gender',\n",
       " 'Ethnicity',\n",
       " 'Baseline_Rest_Timestamp',\n",
       " 'Baseline_Speech_Timestamp',\n",
       " 'Baseline_SUDS',\n",
       " 'BugBox_Reaction',\n",
       " 'BugBox_Relax_Timestamp',\n",
       " 'BugBox_Relax_SUDS',\n",
       " 'BugBox_Instructions_Timestamp',\n",
       " 'BugBox_Anticipate_TimeStamp',\n",
       " 'BugBox_Decision_Timestamp',\n",
       " 'BugBox_Preparation_SUDS',\n",
       " 'BugBox_Exposure_Timestamp',\n",
       " 'BugBox_Exposure_SUDS',\n",
       " 'BugBox_Break_Timestamp',\n",
       " 'BugBox_Break_SUDS',\n",
       " 'BugBox_Reflect_Timestamp',\n",
       " 'Speech_Reaction',\n",
       " 'Speech_Relax_Timestamp',\n",
       " 'Speech_Relax_SUDS',\n",
       " 'Speech_Instructions_Timestamp',\n",
       " 'Speech_Anticipate_Timestamp',\n",
       " 'Speech_Preperation_Timestamp',\n",
       " 'Speech_Decision_Timestamp',\n",
       " 'Speech_SUDS',\n",
       " 'Speech_Exposure_Timestamp',\n",
       " 'Speech_Exposure_SUDS',\n",
       " 'Speech_Break_Timestamp',\n",
       " 'Speech_Break_SUDS',\n",
       " 'Speech_Reflect_Timestamp',\n",
       " 'End']"
      ]
     },
     "execution_count": 23,
     "metadata": {},
     "output_type": "execute_result"
    }
   ],
   "source": [
    "participants.columns.tolist()"
   ]
  },
  {
   "cell_type": "code",
   "execution_count": 15,
   "id": "c62ec620-e5a7-4803-a0e3-3a58e051f03d",
   "metadata": {},
   "outputs": [
    {
     "data": {
      "text/html": [
       "<div>\n",
       "<style scoped>\n",
       "    .dataframe tbody tr th:only-of-type {\n",
       "        vertical-align: middle;\n",
       "    }\n",
       "\n",
       "    .dataframe tbody tr th {\n",
       "        vertical-align: top;\n",
       "    }\n",
       "\n",
       "    .dataframe thead th {\n",
       "        text-align: right;\n",
       "    }\n",
       "</style>\n",
       "<table border=\"1\" class=\"dataframe\">\n",
       "  <thead>\n",
       "    <tr style=\"text-align: right;\">\n",
       "      <th></th>\n",
       "      <th>Timestamp</th>\n",
       "      <th>Age</th>\n",
       "      <th>Gender</th>\n",
       "      <th>Country</th>\n",
       "      <th>state</th>\n",
       "      <th>self_employed</th>\n",
       "      <th>family_history</th>\n",
       "      <th>treatment</th>\n",
       "      <th>work_interfere</th>\n",
       "      <th>no_employees</th>\n",
       "      <th>...</th>\n",
       "      <th>leave</th>\n",
       "      <th>mental_health_consequence</th>\n",
       "      <th>phys_health_consequence</th>\n",
       "      <th>coworkers</th>\n",
       "      <th>supervisor</th>\n",
       "      <th>mental_health_interview</th>\n",
       "      <th>phys_health_interview</th>\n",
       "      <th>mental_vs_physical</th>\n",
       "      <th>obs_consequence</th>\n",
       "      <th>comments</th>\n",
       "    </tr>\n",
       "  </thead>\n",
       "  <tbody>\n",
       "    <tr>\n",
       "      <th>0</th>\n",
       "      <td>2014-08-27 11:29:31</td>\n",
       "      <td>37</td>\n",
       "      <td>Female</td>\n",
       "      <td>United States</td>\n",
       "      <td>IL</td>\n",
       "      <td>NaN</td>\n",
       "      <td>No</td>\n",
       "      <td>Yes</td>\n",
       "      <td>Often</td>\n",
       "      <td>6-25</td>\n",
       "      <td>...</td>\n",
       "      <td>Somewhat easy</td>\n",
       "      <td>No</td>\n",
       "      <td>No</td>\n",
       "      <td>Some of them</td>\n",
       "      <td>Yes</td>\n",
       "      <td>No</td>\n",
       "      <td>Maybe</td>\n",
       "      <td>Yes</td>\n",
       "      <td>No</td>\n",
       "      <td>NaN</td>\n",
       "    </tr>\n",
       "    <tr>\n",
       "      <th>1</th>\n",
       "      <td>2014-08-27 11:29:37</td>\n",
       "      <td>44</td>\n",
       "      <td>M</td>\n",
       "      <td>United States</td>\n",
       "      <td>IN</td>\n",
       "      <td>NaN</td>\n",
       "      <td>No</td>\n",
       "      <td>No</td>\n",
       "      <td>Rarely</td>\n",
       "      <td>More than 1000</td>\n",
       "      <td>...</td>\n",
       "      <td>Don't know</td>\n",
       "      <td>Maybe</td>\n",
       "      <td>No</td>\n",
       "      <td>No</td>\n",
       "      <td>No</td>\n",
       "      <td>No</td>\n",
       "      <td>No</td>\n",
       "      <td>Don't know</td>\n",
       "      <td>No</td>\n",
       "      <td>NaN</td>\n",
       "    </tr>\n",
       "    <tr>\n",
       "      <th>2</th>\n",
       "      <td>2014-08-27 11:29:44</td>\n",
       "      <td>32</td>\n",
       "      <td>Male</td>\n",
       "      <td>Canada</td>\n",
       "      <td>NaN</td>\n",
       "      <td>NaN</td>\n",
       "      <td>No</td>\n",
       "      <td>No</td>\n",
       "      <td>Rarely</td>\n",
       "      <td>6-25</td>\n",
       "      <td>...</td>\n",
       "      <td>Somewhat difficult</td>\n",
       "      <td>No</td>\n",
       "      <td>No</td>\n",
       "      <td>Yes</td>\n",
       "      <td>Yes</td>\n",
       "      <td>Yes</td>\n",
       "      <td>Yes</td>\n",
       "      <td>No</td>\n",
       "      <td>No</td>\n",
       "      <td>NaN</td>\n",
       "    </tr>\n",
       "    <tr>\n",
       "      <th>3</th>\n",
       "      <td>2014-08-27 11:29:46</td>\n",
       "      <td>31</td>\n",
       "      <td>Male</td>\n",
       "      <td>United Kingdom</td>\n",
       "      <td>NaN</td>\n",
       "      <td>NaN</td>\n",
       "      <td>Yes</td>\n",
       "      <td>Yes</td>\n",
       "      <td>Often</td>\n",
       "      <td>26-100</td>\n",
       "      <td>...</td>\n",
       "      <td>Somewhat difficult</td>\n",
       "      <td>Yes</td>\n",
       "      <td>Yes</td>\n",
       "      <td>Some of them</td>\n",
       "      <td>No</td>\n",
       "      <td>Maybe</td>\n",
       "      <td>Maybe</td>\n",
       "      <td>No</td>\n",
       "      <td>Yes</td>\n",
       "      <td>NaN</td>\n",
       "    </tr>\n",
       "    <tr>\n",
       "      <th>4</th>\n",
       "      <td>2014-08-27 11:30:22</td>\n",
       "      <td>31</td>\n",
       "      <td>Male</td>\n",
       "      <td>United States</td>\n",
       "      <td>TX</td>\n",
       "      <td>NaN</td>\n",
       "      <td>No</td>\n",
       "      <td>No</td>\n",
       "      <td>Never</td>\n",
       "      <td>100-500</td>\n",
       "      <td>...</td>\n",
       "      <td>Don't know</td>\n",
       "      <td>No</td>\n",
       "      <td>No</td>\n",
       "      <td>Some of them</td>\n",
       "      <td>Yes</td>\n",
       "      <td>Yes</td>\n",
       "      <td>Yes</td>\n",
       "      <td>Don't know</td>\n",
       "      <td>No</td>\n",
       "      <td>NaN</td>\n",
       "    </tr>\n",
       "  </tbody>\n",
       "</table>\n",
       "<p>5 rows × 27 columns</p>\n",
       "</div>"
      ],
      "text/plain": [
       "             Timestamp  Age  Gender         Country state self_employed  \\\n",
       "0  2014-08-27 11:29:31   37  Female   United States    IL           NaN   \n",
       "1  2014-08-27 11:29:37   44       M   United States    IN           NaN   \n",
       "2  2014-08-27 11:29:44   32    Male          Canada   NaN           NaN   \n",
       "3  2014-08-27 11:29:46   31    Male  United Kingdom   NaN           NaN   \n",
       "4  2014-08-27 11:30:22   31    Male   United States    TX           NaN   \n",
       "\n",
       "  family_history treatment work_interfere    no_employees  ...  \\\n",
       "0             No       Yes          Often            6-25  ...   \n",
       "1             No        No         Rarely  More than 1000  ...   \n",
       "2             No        No         Rarely            6-25  ...   \n",
       "3            Yes       Yes          Often          26-100  ...   \n",
       "4             No        No          Never         100-500  ...   \n",
       "\n",
       "                leave mental_health_consequence phys_health_consequence  \\\n",
       "0       Somewhat easy                        No                      No   \n",
       "1          Don't know                     Maybe                      No   \n",
       "2  Somewhat difficult                        No                      No   \n",
       "3  Somewhat difficult                       Yes                     Yes   \n",
       "4          Don't know                        No                      No   \n",
       "\n",
       "      coworkers supervisor mental_health_interview phys_health_interview  \\\n",
       "0  Some of them        Yes                      No                 Maybe   \n",
       "1            No         No                      No                    No   \n",
       "2           Yes        Yes                     Yes                   Yes   \n",
       "3  Some of them         No                   Maybe                 Maybe   \n",
       "4  Some of them        Yes                     Yes                   Yes   \n",
       "\n",
       "  mental_vs_physical obs_consequence comments  \n",
       "0                Yes              No      NaN  \n",
       "1         Don't know              No      NaN  \n",
       "2                 No              No      NaN  \n",
       "3                 No             Yes      NaN  \n",
       "4         Don't know              No      NaN  \n",
       "\n",
       "[5 rows x 27 columns]"
      ]
     },
     "execution_count": 15,
     "metadata": {},
     "output_type": "execute_result"
    }
   ],
   "source": [
    "participants_survey = pd.read_csv('survey.csv')\n",
    "participants_survey.head()"
   ]
  },
  {
   "cell_type": "code",
   "execution_count": 16,
   "id": "a6da5127-1c56-455f-abf5-5d0585d04b6b",
   "metadata": {},
   "outputs": [
    {
     "data": {
      "text/plain": [
       "(1259, 27)"
      ]
     },
     "execution_count": 16,
     "metadata": {},
     "output_type": "execute_result"
    }
   ],
   "source": [
    "participants_survey.shape\n"
   ]
  },
  {
   "cell_type": "code",
   "execution_count": 17,
   "id": "9e0dd40e-a6db-4f89-ae42-f8d2b12cc401",
   "metadata": {},
   "outputs": [
    {
     "data": {
      "text/html": [
       "<div>\n",
       "<style scoped>\n",
       "    .dataframe tbody tr th:only-of-type {\n",
       "        vertical-align: middle;\n",
       "    }\n",
       "\n",
       "    .dataframe tbody tr th {\n",
       "        vertical-align: top;\n",
       "    }\n",
       "\n",
       "    .dataframe thead th {\n",
       "        text-align: right;\n",
       "    }\n",
       "</style>\n",
       "<table border=\"1\" class=\"dataframe\">\n",
       "  <thead>\n",
       "    <tr style=\"text-align: right;\">\n",
       "      <th></th>\n",
       "      <th>intents</th>\n",
       "    </tr>\n",
       "  </thead>\n",
       "  <tbody>\n",
       "    <tr>\n",
       "      <th>0</th>\n",
       "      <td>{'tag': 'greeting', 'patterns': ['Hi', 'Hey', ...</td>\n",
       "    </tr>\n",
       "    <tr>\n",
       "      <th>1</th>\n",
       "      <td>{'tag': 'morning', 'patterns': ['Good morning'...</td>\n",
       "    </tr>\n",
       "    <tr>\n",
       "      <th>2</th>\n",
       "      <td>{'tag': 'afternoon', 'patterns': ['Good aftern...</td>\n",
       "    </tr>\n",
       "    <tr>\n",
       "      <th>3</th>\n",
       "      <td>{'tag': 'evening', 'patterns': ['Good evening'...</td>\n",
       "    </tr>\n",
       "    <tr>\n",
       "      <th>4</th>\n",
       "      <td>{'tag': 'night', 'patterns': ['Good night'], '...</td>\n",
       "    </tr>\n",
       "  </tbody>\n",
       "</table>\n",
       "</div>"
      ],
      "text/plain": [
       "                                             intents\n",
       "0  {'tag': 'greeting', 'patterns': ['Hi', 'Hey', ...\n",
       "1  {'tag': 'morning', 'patterns': ['Good morning'...\n",
       "2  {'tag': 'afternoon', 'patterns': ['Good aftern...\n",
       "3  {'tag': 'evening', 'patterns': ['Good evening'...\n",
       "4  {'tag': 'night', 'patterns': ['Good night'], '..."
      ]
     },
     "execution_count": 17,
     "metadata": {},
     "output_type": "execute_result"
    }
   ],
   "source": [
    "conversations = pd.read_json('intents.json')\n",
    "conversations.head()"
   ]
  },
  {
   "cell_type": "code",
   "execution_count": 22,
   "id": "3bce5076-dbd8-430f-a4af-34a5635b670c",
   "metadata": {},
   "outputs": [
    {
     "name": "stdout",
     "output_type": "stream",
     "text": [
      "1967\n",
      "10000\n",
      "3000\n",
      "Total samples collected for Mental Health Project:  16226\n"
     ]
    }
   ],
   "source": [
    "size_health_anxiety_dataset = len(health_anxiety_dataset)\n",
    "print(size_health_anxiety_dataset)\n",
    "size_mental_health_dataset = len(mental_health_dataset)\n",
    "print(size_mental_health_dataset)\n",
    "size_lifestyle = len(lifestyle)\n",
    "print(size_lifestyle)\n",
    "size_participants_survey = len(participants_survey)\n",
    "\n",
    "print('Total samples collected for Mental Health Project: ', size_health_anxiety_dataset+size_lifestyle+size_mental_health_dataset+size_participants_survey)"
   ]
  },
  {
   "cell_type": "code",
   "execution_count": null,
   "id": "e06cd9c3",
   "metadata": {},
   "outputs": [],
   "source": []
  }
 ],
 "metadata": {
  "kernelspec": {
   "display_name": "Python 3",
   "language": "python",
   "name": "python3"
  },
  "language_info": {
   "codemirror_mode": {
    "name": "ipython",
    "version": 3
   },
   "file_extension": ".py",
   "mimetype": "text/x-python",
   "name": "python",
   "nbconvert_exporter": "python",
   "pygments_lexer": "ipython3",
   "version": "3.13.2"
  }
 },
 "nbformat": 4,
 "nbformat_minor": 5
}
