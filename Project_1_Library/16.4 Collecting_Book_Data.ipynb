{
 "cells": [
  {
   "cell_type": "markdown",
   "id": "f522827c",
   "metadata": {},
   "source": []
  },
  {
   "cell_type": "code",
   "execution_count": 31,
   "id": "c99a9a00",
   "metadata": {},
   "outputs": [
    {
     "name": "stderr",
     "output_type": "stream",
     "text": [
      "1223.42s - pydevd: Sending message related to process being replaced timed-out after 5 seconds\n"
     ]
    },
    {
     "name": "stdout",
     "output_type": "stream",
     "text": [
      "Requirement already satisfied: requests in /opt/anaconda3/lib/python3.12/site-packages (2.32.3)\n",
      "Requirement already satisfied: charset-normalizer<4,>=2 in /opt/anaconda3/lib/python3.12/site-packages (from requests) (3.3.2)\n",
      "Requirement already satisfied: idna<4,>=2.5 in /opt/anaconda3/lib/python3.12/site-packages (from requests) (3.7)\n",
      "Requirement already satisfied: urllib3<3,>=1.21.1 in /opt/anaconda3/lib/python3.12/site-packages (from requests) (2.2.3)\n",
      "Requirement already satisfied: certifi>=2017.4.17 in /opt/anaconda3/lib/python3.12/site-packages (from requests) (2025.1.31)\n"
     ]
    }
   ],
   "source": [
    "!pip install requests"
   ]
  },
  {
   "cell_type": "code",
   "execution_count": 37,
   "id": "1f23ea0e",
   "metadata": {},
   "outputs": [
    {
     "name": "stderr",
     "output_type": "stream",
     "text": [
      "1282.82s - pydevd: Sending message related to process being replaced timed-out after 5 seconds\n"
     ]
    },
    {
     "name": "stdout",
     "output_type": "stream",
     "text": [
      "Collecting requests\n",
      "  Downloading requests-2.32.4-py3-none-any.whl.metadata (4.9 kB)\n",
      "Collecting charset_normalizer<4,>=2 (from requests)\n",
      "  Downloading charset_normalizer-3.4.2-cp313-cp313-macosx_10_13_universal2.whl.metadata (35 kB)\n",
      "Collecting idna<4,>=2.5 (from requests)\n",
      "  Downloading idna-3.10-py3-none-any.whl.metadata (10 kB)\n",
      "Collecting urllib3<3,>=1.21.1 (from requests)\n",
      "  Downloading urllib3-2.5.0-py3-none-any.whl.metadata (6.5 kB)\n",
      "Collecting certifi>=2017.4.17 (from requests)\n",
      "  Downloading certifi-2025.6.15-py3-none-any.whl.metadata (2.4 kB)\n",
      "Downloading requests-2.32.4-py3-none-any.whl (64 kB)\n",
      "Downloading certifi-2025.6.15-py3-none-any.whl (157 kB)\n",
      "Downloading charset_normalizer-3.4.2-cp313-cp313-macosx_10_13_universal2.whl (199 kB)\n",
      "Downloading idna-3.10-py3-none-any.whl (70 kB)\n",
      "Downloading urllib3-2.5.0-py3-none-any.whl (129 kB)\n",
      "Installing collected packages: urllib3, idna, charset_normalizer, certifi, requests\n",
      "Successfully installed certifi-2025.6.15 charset_normalizer-3.4.2 idna-3.10 requests-2.32.4 urllib3-2.5.0\n",
      "\n",
      "\u001b[1m[\u001b[0m\u001b[34;49mnotice\u001b[0m\u001b[1;39;49m]\u001b[0m\u001b[39;49m A new release of pip is available: \u001b[0m\u001b[31;49m25.0.1\u001b[0m\u001b[39;49m -> \u001b[0m\u001b[32;49m25.1.1\u001b[0m\n",
      "\u001b[1m[\u001b[0m\u001b[34;49mnotice\u001b[0m\u001b[1;39;49m]\u001b[0m\u001b[39;49m To update, run: \u001b[0m\u001b[32;49mpip3 install --upgrade pip\u001b[0m\n",
      "Note: you may need to restart the kernel to use updated packages.\n"
     ]
    }
   ],
   "source": [
    "pip install requests"
   ]
  },
  {
   "cell_type": "code",
   "execution_count": 38,
   "id": "22b92f01-9e6c-40f3-9444-ae6712aabb1f",
   "metadata": {},
   "outputs": [],
   "source": [
    "\n",
    "import requests\n",
    "import time\n",
    "\n",
    "data=[]\n",
    "def search_books(query, total_results=100):\n",
    "    url = \"https://www.googleapis.com/books/v1/volumes\"\n",
    "    books = []\n",
    "    max_per_request = 40  # Google Books API limit\n",
    "    for start_index in range(0, total_results, max_per_request):\n",
    "        params = {\n",
    "            \"q\": query,\n",
    "            \"startIndex\": start_index,\n",
    "            \"maxResults\": min(max_per_request, total_results - start_index)\n",
    "        }\n",
    "\n",
    "        response = requests.get(url, params=params)\n",
    "        if response.status_code == 200:\n",
    "            data = response.json()\n",
    "            items = data.get(\"items\", [])\n",
    "            books.extend(items)\n",
    "            if not items:\n",
    "                break  # No more results\n",
    "        else:\n",
    "            print(f\"Error: {response.status_code} - {response.text}\")\n",
    "            break\n",
    "\n",
    "        time.sleep(0.1)\n",
    "\n",
    "        return items;\n"
   ]
  },
  {
   "cell_type": "code",
   "execution_count": 39,
   "id": "b6cd6565-d374-4a6e-9aec-296a9aa1d618",
   "metadata": {},
   "outputs": [],
   "source": [
    "# Find Fantasy books\n",
    "collect_fantasy = search_books(\"fantasy\", total_results=100)\n",
    "data.append(collect_fantasy)\n",
    "# print(collect_fantasy)"
   ]
  },
  {
   "cell_type": "code",
   "execution_count": 40,
   "id": "125ac60b-53f5-4d36-8e15-a5ee0008bbda",
   "metadata": {},
   "outputs": [],
   "source": [
    "# Find Classical books\n",
    "collect_classical = search_books(\"classical\", total_results=100)\n",
    "data.append(collect_classical)\n",
    "# print(collect_classical)"
   ]
  },
  {
   "cell_type": "code",
   "execution_count": 41,
   "id": "7c94c84b-f27e-443e-aff8-94a51a525c16",
   "metadata": {},
   "outputs": [],
   "source": [
    "# Find Education books\n",
    "collect_education = search_books(\"education\", total_results=100)\n",
    "data.append(collect_education)\n",
    "# print(collect_education)"
   ]
  },
  {
   "cell_type": "code",
   "execution_count": 42,
   "id": "5e6eceec-d2d3-4180-b9c4-412ef870665d",
   "metadata": {},
   "outputs": [],
   "source": [
    "# Find SciFi books\n",
    "collect_science_fiction = search_books(\"science fiction\", total_results=100)\n",
    "data.append(collect_science_fiction)\n",
    "# print(collect_science_fiction)"
   ]
  },
  {
   "cell_type": "code",
   "execution_count": 43,
   "id": "1363e390-09d8-4d06-9cea-01f71286c919",
   "metadata": {},
   "outputs": [],
   "source": [
    "# Find History books\n",
    "collect_history = search_books(\"history\", total_results=100)\n",
    "data.append(collect_history)\n",
    "# print(collect_history)"
   ]
  },
  {
   "cell_type": "code",
   "execution_count": 44,
   "id": "f028ad58-bec7-4df1-bf46-7246aeff4fbb",
   "metadata": {},
   "outputs": [],
   "source": [
    "# Find Science books\n",
    "collect_science = search_books(\"science\", total_results=100)\n",
    "data.append(collect_science)\n",
    "# print(collect_science)\n",
    " "
   ]
  },
  {
   "cell_type": "code",
   "execution_count": 45,
   "id": "11b8847e-6521-4755-b4b4-53a579a4638f",
   "metadata": {},
   "outputs": [],
   "source": [
    "# Find Fiction books\n",
    "collect_fiction = search_books(\"fiction\", total_results=100)\n",
    "data.append(collect_fiction)\n",
    "# print(collect_fiction)"
   ]
  },
  {
   "cell_type": "code",
   "execution_count": 46,
   "id": "ac4702fd-dd97-4151-a661-f33910fc8665",
   "metadata": {},
   "outputs": [],
   "source": [
    "# Find Non-Fiction books\n",
    "collect_non_fiction = search_books(\"non-fiction\", total_results=100)\n",
    "data.append(collect_non_fiction)\n",
    "# print(collect_non_fiction)"
   ]
  },
  {
   "cell_type": "code",
   "execution_count": 47,
   "id": "28ebf6bb-7613-4b12-b301-ad157f9dbceb",
   "metadata": {},
   "outputs": [],
   "source": [
    "# Find Poetry books\n",
    "collect_poetry = search_books(\"poetry\", total_results=100)\n",
    "data.append(collect_poetry)\n",
    "# print(collect_poetry)"
   ]
  },
  {
   "cell_type": "code",
   "execution_count": 48,
   "id": "aa3e6dea-2623-4199-8d61-d4144819c911",
   "metadata": {},
   "outputs": [],
   "source": [
    "# Find Thriller books\n",
    "collect_thriller = search_books(\"thriller\", total_results=100)\n",
    "data.append(collect_thriller)\n",
    "# print(collect_thriller)"
   ]
  },
  {
   "cell_type": "code",
   "execution_count": 49,
   "id": "69cb93a1-0dd8-490b-92f1-3ad19fba52c5",
   "metadata": {
    "scrolled": true
   },
   "outputs": [],
   "source": [
    "# Find Horror books\n",
    "collect_horror = search_books(\"horror\", total_results=100)\n",
    "data.append(collect_horror)\n",
    "# print(collect_horror)"
   ]
  },
  {
   "cell_type": "code",
   "execution_count": 50,
   "id": "2678d78d-ee15-4955-bf71-6545773ce900",
   "metadata": {},
   "outputs": [],
   "source": [
    "# Find Ancient books\n",
    "collect_ancient = search_books(\"ancient\", total_results=100)\n",
    "data.append(collect_ancient)\n",
    "# print(collect_ancient)"
   ]
  },
  {
   "cell_type": "code",
   "execution_count": 51,
   "id": "196b2bb2-360c-4bea-8628-dc1cd025bb54",
   "metadata": {},
   "outputs": [],
   "source": [
    "# Find Nutrition books\n",
    "collect_nutrition = search_books(\"nutrition\", total_results=100)\n",
    "data.append(collect_nutrition)\n",
    "# print(collect_nutrition)"
   ]
  },
  {
   "cell_type": "code",
   "execution_count": 52,
   "id": "d03cbbf6-5dc5-4cea-b07b-86f928912643",
   "metadata": {},
   "outputs": [],
   "source": [
    "# Find Math books\n",
    "collect_math = search_books(\"math\", total_results=100)\n",
    "data.append(collect_math)\n",
    "# print(collect_math)"
   ]
  },
  {
   "cell_type": "code",
   "execution_count": 53,
   "id": "eded69ce-d4ec-4845-bb10-f1311f82f50e",
   "metadata": {},
   "outputs": [],
   "source": [
    "# Find Historical Fiction books\n",
    "collect_historical_fiction = search_books(\"historical fiction\", total_results=100)\n",
    "data.append(collect_historical_fiction)\n",
    "# print(collect_historical_fiction)"
   ]
  },
  {
   "cell_type": "code",
   "execution_count": 54,
   "id": "edb29456-6dfd-4899-8a2e-37878cba9b97",
   "metadata": {
    "scrolled": true
   },
   "outputs": [],
   "source": [
    "# Find 19th Century books\n",
    "collect_19_century = search_books(\"19th century\", total_results=100)\n",
    "data.append(collect_19_century)\n",
    "# print(collect_19_century)"
   ]
  },
  {
   "cell_type": "code",
   "execution_count": 55,
   "id": "bc6b0843-fd02-4ec1-b8ae-cd49fab27590",
   "metadata": {},
   "outputs": [],
   "source": [
    "# Find 20th Century books\n",
    "collect_20_century = search_books(\"20th century\", total_results=100)\n",
    "data.append(collect_20_century)\n",
    "# print(collect_20_century)"
   ]
  },
  {
   "cell_type": "code",
   "execution_count": 56,
   "id": "f76356df-9bd8-4c28-b84c-30aa5f2e15d6",
   "metadata": {},
   "outputs": [],
   "source": [
    "# Find Art books\n",
    "collect_art = search_books(\"art\", total_results=100)\n",
    "data.append(collect_art)\n",
    "# print(collect_art)"
   ]
  },
  {
   "cell_type": "code",
   "execution_count": 57,
   "id": "2ad74536-dd2d-4122-b1f5-0a81ce8063c3",
   "metadata": {},
   "outputs": [],
   "source": [
    "# Find Art History books\n",
    "collect_art_history = search_books(\"art history\", total_results=100)\n",
    "data.append(collect_art_history)\n",
    "# print(collect_art_history)"
   ]
  },
  {
   "cell_type": "code",
   "execution_count": 58,
   "id": "a78e9b77-1bae-40cb-b74b-7085cbea08a9",
   "metadata": {},
   "outputs": [],
   "source": [
    "# Find Food books\n",
    "collect_food = search_books(\"food\", total_results=100)\n",
    "data.append(collect_food)\n",
    "# print(collect_food)"
   ]
  },
  {
   "cell_type": "code",
   "execution_count": 59,
   "id": "ac2ba0fe-348c-41ca-8005-56b991e3f164",
   "metadata": {},
   "outputs": [],
   "source": [
    "# Find Romance books\n",
    "collect_romance = search_books(\"romance\", total_results=100)\n",
    "data.append(collect_romance)\n",
    "# print(collect_romance)"
   ]
  },
  {
   "cell_type": "code",
   "execution_count": 60,
   "id": "03b77b6e-9eff-4b8c-b1c3-b420469ec7d6",
   "metadata": {},
   "outputs": [],
   "source": [
    "# Find Nature books\n",
    "collect_nature = search_books(\"nature\", total_results=100)\n",
    "data.append(collect_nature)\n",
    "# print(collect_nature)"
   ]
  },
  {
   "cell_type": "code",
   "execution_count": 61,
   "id": "8089367a-f0e7-4532-80a0-d8045ebccb13",
   "metadata": {},
   "outputs": [
    {
     "name": "stdout",
     "output_type": "stream",
     "text": [
      "2200\n"
     ]
    }
   ],
   "source": [
    "# Print array lists and multiply by 100 entries each\n",
    "print(len(data) * 100);"
   ]
  },
  {
   "cell_type": "code",
   "execution_count": 62,
   "id": "9e59f3a6-6585-49a0-a855-8db56bec9412",
   "metadata": {},
   "outputs": [
    {
     "name": "stdout",
     "output_type": "stream",
     "text": [
      "{'kind': 'books#volume', 'id': 'aKU-DQAAQBAJ', 'etag': 'RAyqwi0ZVdI', 'selfLink': 'https://www.googleapis.com/books/v1/volumes/aKU-DQAAQBAJ', 'volumeInfo': {'title': 'Fantasy Literature', 'subtitle': 'Challenging Genres', 'authors': ['Mark A. Fabrizi'], 'publisher': 'Springer', 'publishedDate': '2016-10-11', 'description': 'Fantasy literature, often derided as superficial and escapist, is one of the most popular and enduring genres of fiction worldwide. It is also—perhaps surprisingly—thought-provoking, structurally complex, and relevant to contemporary society, as the essays in this volume attest. The scholars, teachers, and authors represented here offer their perspectives on this engaging genre. Within these pages, a reader will find a wealth of ideas to help teachers use these texts in the classroom, challenging students to read fantasy with a critical eye. They employ interdisciplinary, philosophical, and religious lenses, as well as Marxist and feminist critical theory, to help students unlock texts. The books discussed include epic fantasy by such authors as Tolkien and Le Guin, children’s fantasy by Beatrix Potter and Saint-Exupéry, modern fantasy by Rowling and Martin, and even fairy tales and comic books. The contributors offer provocations, questioning the texts and pushing the boundaries of meaning within the fantasy genre. And in doing so, they challenge readers themselves to ponder these tales more deeply. But through each of these chapters runs a profound love of the genre and a respect for those who produce such beautiful and moving stories. Furthermore, as with all the books in this series, this volume is informed by the tenets of critical pedagogy, and is focused on re-envisioning fantasy literature through the lens of social justice and empowerment. Prepare to be challenged and inspired as you read these explorations of a much-loved genre.', 'industryIdentifiers': [{'type': 'ISBN_13', 'identifier': '9789463007580'}, {'type': 'ISBN_10', 'identifier': '946300758X'}], 'readingModes': {'text': False, 'image': True}, 'pageCount': 233, 'printType': 'BOOK', 'categories': ['Education'], 'maturityRating': 'NOT_MATURE', 'allowAnonLogging': False, 'contentVersion': '0.2.2.0.preview.1', 'panelizationSummary': {'containsEpubBubbles': False, 'containsImageBubbles': False}, 'imageLinks': {'smallThumbnail': 'http://books.google.com/books/content?id=aKU-DQAAQBAJ&printsec=frontcover&img=1&zoom=5&edge=curl&source=gbs_api', 'thumbnail': 'http://books.google.com/books/content?id=aKU-DQAAQBAJ&printsec=frontcover&img=1&zoom=1&edge=curl&source=gbs_api'}, 'language': 'en', 'previewLink': 'http://books.google.nl/books?id=aKU-DQAAQBAJ&pg=PA1&dq=fantasy&hl=&cd=2&source=gbs_api', 'infoLink': 'https://play.google.com/store/books/details?id=aKU-DQAAQBAJ&source=gbs_api', 'canonicalVolumeLink': 'https://play.google.com/store/books/details?id=aKU-DQAAQBAJ'}, 'saleInfo': {'country': 'NL', 'saleability': 'FOR_SALE', 'isEbook': True, 'listPrice': {'amount': 38.15, 'currencyCode': 'EUR'}, 'retailPrice': {'amount': 26.7, 'currencyCode': 'EUR'}, 'buyLink': 'https://play.google.com/store/books/details?id=aKU-DQAAQBAJ&rdid=book-aKU-DQAAQBAJ&rdot=1&source=gbs_api', 'offers': [{'finskyOfferType': 1, 'listPrice': {'amountInMicros': 38150000, 'currencyCode': 'EUR'}, 'retailPrice': {'amountInMicros': 26700000, 'currencyCode': 'EUR'}}]}, 'accessInfo': {'country': 'NL', 'viewability': 'PARTIAL', 'embeddable': True, 'publicDomain': False, 'textToSpeechPermission': 'ALLOWED', 'epub': {'isAvailable': False}, 'pdf': {'isAvailable': True, 'acsTokenLink': 'http://books.google.nl/books/download/Fantasy_Literature-sample-pdf.acsm?id=aKU-DQAAQBAJ&format=pdf&output=acs4_fulfillment_token&dl_type=sample&source=gbs_api'}, 'webReaderLink': 'http://play.google.com/books/reader?id=aKU-DQAAQBAJ&hl=&source=gbs_api', 'accessViewStatus': 'SAMPLE', 'quoteSharingAllowed': False}, 'searchInfo': {'textSnippet': 'Challenging Genres Mark A. Fabrizi. INTRODUCTION. Challenging <b>Fantasy</b> Literature Over the years, <b>fantasy</b> literature has attracted a body of scholarly criticism devoted to illuminating works of <b>fantasy</b> not unlike critical analyses of&nbsp;...'}}\n"
     ]
    }
   ],
   "source": [
    "# example of details\n",
    "print(data[0][1])"
   ]
  },
  {
   "cell_type": "code",
   "execution_count": null,
   "id": "c1479893-35f4-4008-a414-a99643898021",
   "metadata": {},
   "outputs": [
    {
     "name": "stdout",
     "output_type": "stream",
     "text": [
      "dict_keys(['kind', 'id', 'etag', 'selfLink', 'volumeInfo', 'saleInfo', 'accessInfo', 'searchInfo'])\n",
      "\n",
      "\n",
      "dict_keys(['title', 'subtitle', 'authors', 'publisher', 'publishedDate', 'description', 'industryIdentifiers', 'readingModes', 'pageCount', 'printType', 'categories', 'maturityRating', 'allowAnonLogging', 'contentVersion', 'panelizationSummary', 'imageLinks', 'language', 'previewLink', 'infoLink', 'canonicalVolumeLink'])\n",
      "\n",
      "\n",
      "dict_keys(['country', 'viewability', 'embeddable', 'publicDomain', 'textToSpeechPermission', 'epub', 'pdf', 'webReaderLink', 'accessViewStatus', 'quoteSharingAllowed'])\n",
      "\n",
      "\n",
      "dict_keys(['country', 'saleability', 'isEbook', 'listPrice', 'retailPrice', 'buyLink', 'offers'])\n"
     ]
    }
   ],
   "source": [
    "# \n",
    "print(data[0][1].keys())\n",
    "print('\\n')\n",
    "print(data[0][1]['volumeInfo'].keys())\n",
    "print('\\n')\n",
    "print(data[0][1]['accessInfo'].keys())\n",
    "print('\\n')\n",
    "print(data[0][1]['saleInfo'].keys())"
   ]
  },
  {
   "cell_type": "code",
   "execution_count": 4,
   "id": "4603df29",
   "metadata": {},
   "outputs": [
    {
     "name": "stdout",
     "output_type": "stream",
     "text": [
      "Requirement already satisfied: pandas in /opt/anaconda3/lib/python3.12/site-packages (2.2.2)\n",
      "Requirement already satisfied: numpy>=1.26.0 in /opt/anaconda3/lib/python3.12/site-packages (from pandas) (1.26.4)\n",
      "Requirement already satisfied: python-dateutil>=2.8.2 in /opt/anaconda3/lib/python3.12/site-packages (from pandas) (2.9.0.post0)\n",
      "Requirement already satisfied: pytz>=2020.1 in /opt/anaconda3/lib/python3.12/site-packages (from pandas) (2024.1)\n",
      "Requirement already satisfied: tzdata>=2022.7 in /opt/anaconda3/lib/python3.12/site-packages (from pandas) (2023.3)\n",
      "Requirement already satisfied: six>=1.5 in /opt/anaconda3/lib/python3.12/site-packages (from python-dateutil>=2.8.2->pandas) (1.16.0)\n"
     ]
    }
   ],
   "source": [
    "!pip install pandas"
   ]
  },
  {
   "cell_type": "code",
   "execution_count": 6,
   "id": "7308d752",
   "metadata": {},
   "outputs": [
    {
     "name": "stdout",
     "output_type": "stream",
     "text": [
      "Collecting pandas\n",
      "  Downloading pandas-2.3.0-cp313-cp313-macosx_11_0_arm64.whl.metadata (91 kB)\n",
      "Requirement already satisfied: numpy>=1.26.0 in /Library/Frameworks/Python.framework/Versions/3.13/lib/python3.13/site-packages (from pandas) (2.2.3)\n",
      "Requirement already satisfied: python-dateutil>=2.8.2 in /Library/Frameworks/Python.framework/Versions/3.13/lib/python3.13/site-packages (from pandas) (2.9.0.post0)\n",
      "Collecting pytz>=2020.1 (from pandas)\n",
      "  Downloading pytz-2025.2-py2.py3-none-any.whl.metadata (22 kB)\n",
      "Collecting tzdata>=2022.7 (from pandas)\n",
      "  Downloading tzdata-2025.2-py2.py3-none-any.whl.metadata (1.4 kB)\n",
      "Requirement already satisfied: six>=1.5 in /Library/Frameworks/Python.framework/Versions/3.13/lib/python3.13/site-packages (from python-dateutil>=2.8.2->pandas) (1.17.0)\n",
      "Downloading pandas-2.3.0-cp313-cp313-macosx_11_0_arm64.whl (10.7 MB)\n",
      "\u001b[2K   \u001b[90m━━━━━━━━━━━━━━━━━━━━━━━━━━━━━━━━━━━━━━━━\u001b[0m \u001b[32m10.7/10.7 MB\u001b[0m \u001b[31m9.0 MB/s\u001b[0m eta \u001b[36m0:00:00\u001b[0m \u001b[36m0:00:01\u001b[0m\n",
      "\u001b[?25hDownloading pytz-2025.2-py2.py3-none-any.whl (509 kB)\n",
      "Downloading tzdata-2025.2-py2.py3-none-any.whl (347 kB)\n",
      "Installing collected packages: pytz, tzdata, pandas\n",
      "Successfully installed pandas-2.3.0 pytz-2025.2 tzdata-2025.2\n",
      "\n",
      "\u001b[1m[\u001b[0m\u001b[34;49mnotice\u001b[0m\u001b[1;39;49m]\u001b[0m\u001b[39;49m A new release of pip is available: \u001b[0m\u001b[31;49m25.0.1\u001b[0m\u001b[39;49m -> \u001b[0m\u001b[32;49m25.1.1\u001b[0m\n",
      "\u001b[1m[\u001b[0m\u001b[34;49mnotice\u001b[0m\u001b[1;39;49m]\u001b[0m\u001b[39;49m To update, run: \u001b[0m\u001b[32;49mpip3 install --upgrade pip\u001b[0m\n",
      "Note: you may need to restart the kernel to use updated packages.\n"
     ]
    }
   ],
   "source": [
    "pip install pandas\n"
   ]
  },
  {
   "cell_type": "code",
   "execution_count": 18,
   "id": "77bd9eef",
   "metadata": {},
   "outputs": [
    {
     "name": "stdout",
     "output_type": "stream",
     "text": [
      "                                              title  book_id\n",
      "0    The Unschooled Wizard Sun Wolf and Starhawk 12  7327624\n",
      "1                              Best Friends Forever  6066819\n",
      "2                     The Aeneid for Boys and Girls   287141\n",
      "3  Alls Fairy in Love and War Avalon Web of Magic 8  6066812\n",
      "4                               The Devils Notebook   287149\n",
      "   Unnamed: 0                            book_name  \\\n",
      "0           0          The Highly Sensitive Person   \n",
      "1           1  Why Has Nobody Told Me This Before?   \n",
      "2           2                 The Midnight Library   \n",
      "3           3                      Brave New World   \n",
      "4           4                                 1984   \n",
      "\n",
      "                                           summaries categories  \n",
      "0   is a self-assessment guide and how-to-live te...    science  \n",
      "1   is a collection of a clinical psychologist’s ...    science  \n",
      "2   tells the story of Nora, a depressed woman in...    science  \n",
      "3   presents a futuristic society engineered perf...    science  \n",
      "4   is the story of a man questioning the system ...    science  \n",
      "\n",
      "\n",
      "\n",
      "This is the total number of books collected in csv:  1447341\n"
     ]
    }
   ],
   "source": [
    "import pandas as pd\n",
    "df_titles = pd.read_csv('book_titles.csv')\n",
    "df_summ = pd.read_csv('books_summary.csv')\n",
    "print(df_titles.head())\n",
    "print(df_summ.head())\n",
    "\n",
    "\n",
    "print('\\n\\n\\nThis is the total number of books collected in csv: ', len(df_titles))"
   ]
  },
  {
   "cell_type": "code",
   "execution_count": 64,
   "id": "472c8286",
   "metadata": {},
   "outputs": [
    {
     "name": "stdout",
     "output_type": "stream",
     "text": [
      "Total samples collected for Book Project:  1449541\n"
     ]
    }
   ],
   "source": [
    "sample_count = len(data) * 100 + len(df_titles)\n",
    "\n",
    "print('Total samples collected for Book Project: ', sample_count)"
   ]
  },
  {
   "cell_type": "code",
   "execution_count": null,
   "id": "a3ab41a6",
   "metadata": {},
   "outputs": [],
   "source": []
  }
 ],
 "metadata": {
  "kernelspec": {
   "display_name": "Python 3",
   "language": "python",
   "name": "python3"
  },
  "language_info": {
   "codemirror_mode": {
    "name": "ipython",
    "version": 3
   },
   "file_extension": ".py",
   "mimetype": "text/x-python",
   "name": "python",
   "nbconvert_exporter": "python",
   "pygments_lexer": "ipython3",
   "version": "3.13.2"
  }
 },
 "nbformat": 4,
 "nbformat_minor": 5
}
